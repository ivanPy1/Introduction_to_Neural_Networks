{
 "cells": [
  {
   "cell_type": "markdown",
   "metadata": {},
   "source": [
    "# Практическое задание"
   ]
  },
  {
   "cell_type": "markdown",
   "metadata": {},
   "source": [
    "## Урок 3. TensorFlow"
   ]
  },
  {
   "cell_type": "markdown",
   "metadata": {
    "id": "Nvj3uNI9ZekY"
   },
   "source": [
    "1. Попробуйте улучшить работу нейронной сети (разобранную на уроке) обучавшейся на датасет Fashion-MNIST.\n",
    "2. Опишите в комментарии к уроку - какого результата вы добились от нейросети? Что помогло вам улучшить ее точность?\n",
    "3. Поработайте с документацией TensorFlow 2. Попробуйте найти полезные команды TensorFlow, неразобранные на уроке\n",
    "4.  *Попробуйте обучить нейронную сеть на TensorFlow 2 на датасете imdb_reviews."
   ]
  },
  {
   "cell_type": "markdown",
   "metadata": {},
   "source": [
    "---"
   ]
  },
  {
   "cell_type": "markdown",
   "metadata": {},
   "source": [
    "## Задание 1 и 2"
   ]
  },
  {
   "cell_type": "markdown",
   "metadata": {
    "id": "Barp3tFe2wKy"
   },
   "source": [
    "### 1. Импорт библиотек и модулей "
   ]
  },
  {
   "cell_type": "code",
   "execution_count": 1,
   "metadata": {
    "colab": {
     "base_uri": "https://localhost:8080/"
    },
    "id": "7Kbg0P0Q_qbY",
    "outputId": "0281f208-6eb8-48f6-cff0-f24d38164b55"
   },
   "outputs": [
    {
     "name": "stdout",
     "output_type": "stream",
     "text": [
      "2.13.0\n"
     ]
    }
   ],
   "source": [
    "import pandas as pd\n",
    "\n",
    "import tensorflow as tf\n",
    "from tensorflow import keras\n",
    "\n",
    "#Helper libraries\n",
    "import numpy as np\n",
    "\n",
    "# визуализация \n",
    "import matplotlib.pyplot as plt\n",
    "\n",
    "# датасет Fashion MNIST\n",
    "from keras.datasets import fashion_mnist\n",
    "\n",
    "# для создания комбинация числа нейронов сркытых слоев\n",
    "from itertools import combinations, combinations_with_replacement\n",
    "\n",
    "# создание модели нейронной сети \n",
    "from keras.layers import Dense       # Полносвязный линейный слой\n",
    "from keras.models import Sequential  # Класс последовательности \n",
    "\n",
    "from keras.utils import to_categorical\n",
    "\n",
    "print(tf.__version__)"
   ]
  },
  {
   "cell_type": "code",
   "execution_count": 2,
   "metadata": {},
   "outputs": [],
   "source": [
    "import warnings\n",
    "warnings.simplefilter(action='ignore', category=FutureWarning)"
   ]
  },
  {
   "cell_type": "code",
   "execution_count": 3,
   "metadata": {},
   "outputs": [
    {
     "name": "stdout",
     "output_type": "stream",
     "text": [
      "(60000, 28, 28) (10000, 28, 28)\n",
      "(60000,)\n"
     ]
    }
   ],
   "source": [
    "(train_images, train_labels), (test_images, test_labels) = fashion_mnist.load_data()\n",
    "\n",
    "\n",
    "print(train_images.shape, test_images.shape)\n",
    "print(train_labels.shape)"
   ]
  },
  {
   "cell_type": "markdown",
   "metadata": {
    "id": "H9gZI2822wk4"
   },
   "source": [
    "### 2. Нормировка"
   ]
  },
  {
   "cell_type": "code",
   "execution_count": 4,
   "metadata": {},
   "outputs": [],
   "source": [
    "train_images = train_images / 255.0\n",
    "test_images = test_images / 255.0"
   ]
  },
  {
   "cell_type": "markdown",
   "metadata": {},
   "source": [
    "### 3. Reshape"
   ]
  },
  {
   "cell_type": "code",
   "execution_count": 5,
   "metadata": {
    "id": "7MqDQO0KCaWS"
   },
   "outputs": [
    {
     "data": {
      "text/plain": [
       "((60000, 784), (10000, 784))"
      ]
     },
     "execution_count": 5,
     "metadata": {},
     "output_type": "execute_result"
    }
   ],
   "source": [
    "train_images = train_images.reshape((-1, 784))\n",
    "test_images = test_images.reshape((-1, 784))\n",
    "\n",
    "train_images.shape, test_images.shape"
   ]
  },
  {
   "cell_type": "code",
   "execution_count": 6,
   "metadata": {},
   "outputs": [
    {
     "data": {
      "text/plain": [
       "array([[ 0,  1,  2,  3,  4,  5,  6,  7,  8,  9, 10, 11, 12, 13, 14, 15,\n",
       "        16, 17, 18, 19, 20, 21, 22, 23, 24, 25, 26, 27, 28, 29, 30, 31,\n",
       "        32, 33, 34, 35, 36, 37, 38, 39, 40, 41, 42, 43, 44, 45, 46, 47,\n",
       "        48, 49, 50, 51, 52, 53, 54, 55, 56, 57, 58, 59, 60, 61, 62, 63,\n",
       "        64, 65, 66, 67, 68, 69, 70, 71, 72, 73, 74, 75, 76, 77, 78, 79,\n",
       "        80, 81, 82, 83, 84, 85, 86, 87, 88, 89, 90, 91, 92, 93, 94, 95,\n",
       "        96, 97, 98, 99]])"
      ]
     },
     "execution_count": 6,
     "metadata": {},
     "output_type": "execute_result"
    }
   ],
   "source": [
    "v = np.array([x for x in range(100)])\n",
    "v.reshape(1,100)"
   ]
  },
  {
   "cell_type": "code",
   "execution_count": 7,
   "metadata": {},
   "outputs": [],
   "source": [
    "v = train_images[0].copy()\n",
    "v[v > 0] = 1\n",
    "v = v.astype(np.int16)"
   ]
  },
  {
   "cell_type": "code",
   "execution_count": 8,
   "metadata": {
    "id": "IjnLH5S2CaWx"
   },
   "outputs": [],
   "source": [
    "class_names = ['T-shirt/top', 'Trouser', 'Pullover', 'Dress', 'Coat',\n",
    "               'Sandal', 'Shirt', 'Sneaker', 'Bag', 'Ankle boot']"
   ]
  },
  {
   "cell_type": "code",
   "execution_count": 9,
   "metadata": {},
   "outputs": [
    {
     "data": {
      "text/plain": [
       "array([[0., 0., 0., 0., 0., 0., 0., 0., 0., 1.],\n",
       "       [0., 0., 1., 0., 0., 0., 0., 0., 0., 0.],\n",
       "       [0., 1., 0., 0., 0., 0., 0., 0., 0., 0.],\n",
       "       [0., 1., 0., 0., 0., 0., 0., 0., 0., 0.],\n",
       "       [0., 0., 0., 0., 0., 0., 1., 0., 0., 0.]], dtype=float32)"
      ]
     },
     "execution_count": 9,
     "metadata": {},
     "output_type": "execute_result"
    }
   ],
   "source": [
    "train_labels = to_categorical(train_labels)\n",
    "test_labels = to_categorical(test_labels)\n",
    "\n",
    "test_labels[:5]"
   ]
  },
  {
   "cell_type": "markdown",
   "metadata": {},
   "source": [
    "### 4.Анализ датасета"
   ]
  },
  {
   "cell_type": "markdown",
   "metadata": {},
   "source": [
    "#### 4.1. Тренировочная подвыборка "
   ]
  },
  {
   "cell_type": "code",
   "execution_count": 10,
   "metadata": {
    "colab": {
     "base_uri": "https://localhost:8080/"
    },
    "id": "zW5k_xz1CaWX",
    "outputId": "868c9a83-76a3-4e8a-d05a-4a046ef5218a"
   },
   "outputs": [
    {
     "name": "stdout",
     "output_type": "stream",
     "text": [
      "(60000, 784)\n",
      "60000\n",
      "[[0. 0. 0. ... 0. 0. 1.]\n",
      " [1. 0. 0. ... 0. 0. 0.]\n",
      " [1. 0. 0. ... 0. 0. 0.]\n",
      " ...\n",
      " [0. 0. 0. ... 0. 0. 0.]\n",
      " [1. 0. 0. ... 0. 0. 0.]\n",
      " [0. 0. 0. ... 0. 0. 0.]]\n"
     ]
    }
   ],
   "source": [
    "print(train_images.shape)\n",
    "print(len(train_labels))\n",
    "print(train_labels)"
   ]
  },
  {
   "cell_type": "markdown",
   "metadata": {},
   "source": [
    "Вывод: train_images содержит 60 000 изображений, train_labels содержит 60 000 меток "
   ]
  },
  {
   "cell_type": "markdown",
   "metadata": {},
   "source": [
    "#### 4.2. Тестовая подвыборка"
   ]
  },
  {
   "cell_type": "code",
   "execution_count": 11,
   "metadata": {},
   "outputs": [
    {
     "name": "stdout",
     "output_type": "stream",
     "text": [
      "(10000, 784)\n",
      "10000\n",
      "[[0. 0. 0. ... 0. 0. 1.]\n",
      " [0. 0. 1. ... 0. 0. 0.]\n",
      " [0. 1. 0. ... 0. 0. 0.]\n",
      " ...\n",
      " [0. 0. 0. ... 0. 1. 0.]\n",
      " [0. 1. 0. ... 0. 0. 0.]\n",
      " [0. 0. 0. ... 0. 0. 0.]]\n"
     ]
    }
   ],
   "source": [
    "print(test_images.shape)\n",
    "print(len(test_labels))\n",
    "print(test_labels)"
   ]
  },
  {
   "cell_type": "markdown",
   "metadata": {},
   "source": [
    "Вывод: test_images содержит 10 000 изображений, test_labels содержит 10 000 меток "
   ]
  },
  {
   "cell_type": "markdown",
   "metadata": {},
   "source": [
    "### 5. Создание модели"
   ]
  },
  {
   "cell_type": "markdown",
   "metadata": {},
   "source": [
    "#### 5.1. Определение числа слоев и количества нейронов в слоях"
   ]
  },
  {
   "cell_type": "code",
   "execution_count": 12,
   "metadata": {},
   "outputs": [],
   "source": [
    "# число нейронов скрытого слоя\n",
    "neuron_numb = [60, 90, 120, 150]"
   ]
  },
  {
   "cell_type": "code",
   "execution_count": 13,
   "metadata": {},
   "outputs": [],
   "source": [
    "# список числа слоев \n",
    "layers_numb = [2, 3] "
   ]
  },
  {
   "cell_type": "code",
   "execution_count": 14,
   "metadata": {},
   "outputs": [],
   "source": [
    "# создадим комбинации числа нейронов скрытого слоя из списка neuron_numb для разного количества слоев \n",
    "\n",
    "comb_neuron_numb_dict_some_layes = {}\n",
    "\n",
    "n = 1\n",
    "for el in layers_numb:\n",
    "    comb_neuron_numb_layes = combinations_with_replacement(neuron_numb, el)\n",
    "    for i in list(comb_neuron_numb_layes):\n",
    "#         print(i)\n",
    "        comb_neuron_numb_dict_some_layes[str(i)] = i\n",
    "        \n",
    "        \n",
    "# print(comb_neuron_numb_dict_some_layes)\n",
    "\n",
    "# for k in comb_neuron_numb_dict_some_layes:\n",
    "#     print(len(comb_neuron_numb_dict_some_layes.get(k)))"
   ]
  },
  {
   "cell_type": "code",
   "execution_count": 15,
   "metadata": {},
   "outputs": [],
   "source": [
    "# список для сохранения результатов\n",
    "list_metris_total_neural_network_some_layers = []\n",
    "\n",
    "# список наименований столбцов\n",
    "list_cols = ['neuron_numb_for_layers', 'layers_numb', 'accuracy']"
   ]
  },
  {
   "cell_type": "code",
   "execution_count": 16,
   "metadata": {},
   "outputs": [],
   "source": [
    "# функция для получения нейронной сети с различным количеством слоев \n",
    "\n",
    "def learning_neural_network_some_layers(train_images, train_labels, test_images, test_labels, layers_numb, **kwargs):    \n",
    "    model_some_layers = Sequential()\n",
    "\n",
    "    l_nn = kwargs.get(k)\n",
    "    model_some_layers.add(Dense(l_nn[0], input_shape=(28 * 28,), activation='relu')) # input-слой + первый скрытый слой\n",
    "           \n",
    "    for i in range(1, n+1): # для кажого слоя в диапазоне от 2-х до ... заданного\n",
    "        model_some_layers.add(Dense(l_nn[n], activation='relu')) # остальные скрытые слои\n",
    "\n",
    "   \n",
    "    model_some_layers.add(Dense(10, activation='sigmoid')) # output-слой\n",
    "\n",
    "    # компиляция модели \n",
    "    model_some_layers.compile(loss='categorical_crossentropy', \n",
    "                              optimizer=tf.keras.optimizers.Adam(learning_rate=0.001), \n",
    "                              metrics=['accuracy'])\n",
    "    \n",
    "    history = model_some_layers.fit(train_images, train_labels,\n",
    "                    epochs=5,\n",
    "                    batch_size=250, \n",
    "                    verbose=0,\n",
    "#                     validation_data=(test_images, test_labels)\n",
    "                    validation_split=0.2) # валидация 20% от train\n",
    "    \n",
    "    best_metrics_model_some_layers = round(float(history.history['accuracy'][4])*100, 2) # значений accuracy последней эпохи\n",
    "#     print(best_metrics_model_some_layers)\n",
    "    list_total = []\n",
    "    list_total.append(l_nn) # количество нейронов по слоям \n",
    "    list_total.append(layers_numb) # количество слоев нейронной сети \n",
    "    list_total.append(best_metrics_model_some_layers) # значение accuracy\n",
    "                                          \n",
    "    list_metris_total_neural_network_some_layers.append(list_total)\n",
    "    \n",
    "# model.summary()"
   ]
  },
  {
   "cell_type": "code",
   "execution_count": 17,
   "metadata": {},
   "outputs": [
    {
     "name": "stdout",
     "output_type": "stream",
     "text": [
      "CPU times: total: 3min 35s\n",
      "Wall time: 1min 27s\n"
     ]
    }
   ],
   "source": [
    "%%time\n",
    "\n",
    "for k in comb_neuron_numb_dict_some_layes:\n",
    "    learning_neural_network_some_layers(train_images=train_images, \n",
    "                              train_labels=train_labels, \n",
    "                              test_images=test_images, \n",
    "                              test_labels=test_labels, \n",
    "                              layers_numb=int(len(comb_neuron_numb_dict_some_layes.get(k))),  \n",
    "                              **comb_neuron_numb_dict_some_layes)\n",
    "    \n",
    "# CPU times: total: 3min 35s\n",
    "# Wall time: 1min 27s"
   ]
  },
  {
   "cell_type": "code",
   "execution_count": 18,
   "metadata": {},
   "outputs": [
    {
     "data": {
      "text/html": [
       "<div>\n",
       "<style scoped>\n",
       "    .dataframe tbody tr th:only-of-type {\n",
       "        vertical-align: middle;\n",
       "    }\n",
       "\n",
       "    .dataframe tbody tr th {\n",
       "        vertical-align: top;\n",
       "    }\n",
       "\n",
       "    .dataframe thead th {\n",
       "        text-align: right;\n",
       "    }\n",
       "</style>\n",
       "<table border=\"1\" class=\"dataframe\">\n",
       "  <thead>\n",
       "    <tr style=\"text-align: right;\">\n",
       "      <th></th>\n",
       "      <th>neuron_numb_for_layers</th>\n",
       "      <th>layers_numb</th>\n",
       "      <th>accuracy</th>\n",
       "    </tr>\n",
       "  </thead>\n",
       "  <tbody>\n",
       "    <tr>\n",
       "      <th>9</th>\n",
       "      <td>(150, 150)</td>\n",
       "      <td>2</td>\n",
       "      <td>88.56</td>\n",
       "    </tr>\n",
       "    <tr>\n",
       "      <th>8</th>\n",
       "      <td>(120, 150)</td>\n",
       "      <td>2</td>\n",
       "      <td>88.46</td>\n",
       "    </tr>\n",
       "    <tr>\n",
       "      <th>29</th>\n",
       "      <td>(150, 150, 150)</td>\n",
       "      <td>3</td>\n",
       "      <td>88.27</td>\n",
       "    </tr>\n",
       "  </tbody>\n",
       "</table>\n",
       "</div>"
      ],
      "text/plain": [
       "   neuron_numb_for_layers  layers_numb  accuracy\n",
       "9              (150, 150)            2     88.56\n",
       "8              (120, 150)            2     88.46\n",
       "29        (150, 150, 150)            3     88.27"
      ]
     },
     "execution_count": 18,
     "metadata": {},
     "output_type": "execute_result"
    }
   ],
   "source": [
    "# сформируем датасет из списков, включающих значения о количестве нейронов в каждом слое и метрику - accuracy \n",
    "data_neural_network_some_layers = pd.DataFrame(list_metris_total_neural_network_some_layers, columns=list_cols)\n",
    "# отсортируем полученные данные по столбцу точность нейронной сети(accuracy)\n",
    "data_neural_network_some_layers.sort_values(by=list_cols[2], ascending=False).head(3)"
   ]
  },
  {
   "cell_type": "markdown",
   "metadata": {},
   "source": [
    "Вывод: лучшая модель нейронной сети была получена при количестве скрытых слоев - 2 по 150 нейронов в каждом скрытом слое"
   ]
  },
  {
   "cell_type": "markdown",
   "metadata": {},
   "source": [
    "### 6. Компиляция лучшей модели "
   ]
  },
  {
   "cell_type": "code",
   "execution_count": 19,
   "metadata": {},
   "outputs": [
    {
     "name": "stdout",
     "output_type": "stream",
     "text": [
      "88.71\n",
      "CPU times: total: 14.3 s\n",
      "Wall time: 4.29 s\n"
     ]
    }
   ],
   "source": [
    "%%time\n",
    "\n",
    "model_some_layers = Sequential()\n",
    "\n",
    "model_some_layers.add(Dense(150, input_shape=(28 * 28,), activation='relu')) # input-слой + первый скрытый слой\n",
    "model_some_layers.add(Dense(150, activation='relu'))\n",
    "model_some_layers.add(Dense(10, activation='sigmoid')) # output-слой\n",
    "\n",
    "# компиляция модели \n",
    "model_some_layers.compile(loss='categorical_crossentropy', \n",
    "                          optimizer=tf.keras.optimizers.Adam(learning_rate=0.001), \n",
    "                          metrics=['accuracy'])\n",
    "\n",
    "history = model_some_layers.fit(train_images, train_labels,\n",
    "                epochs=5,\n",
    "                batch_size=250,\n",
    "                verbose=0,\n",
    "                validation_split=0.2\n",
    "                )\n",
    "\n",
    "best_metrics_model_some_layers = round(float(history.history['accuracy'][4])*100, 2) # значений accuracy последней эпохи\n",
    "print(best_metrics_model_some_layers)"
   ]
  },
  {
   "cell_type": "code",
   "execution_count": 20,
   "metadata": {},
   "outputs": [],
   "source": [
    "model_some_layers.compile(optimizer=tf.keras.optimizers.Adam(learning_rate=0.001), loss='categorical_crossentropy', metrics=['accuracy'])"
   ]
  },
  {
   "cell_type": "code",
   "execution_count": 21,
   "metadata": {
    "colab": {
     "base_uri": "https://localhost:8080/"
    },
    "id": "VflXLEeECaXC",
    "outputId": "338248c3-9421-40e4-cda2-3622c50de019"
   },
   "outputs": [
    {
     "name": "stdout",
     "output_type": "stream",
     "text": [
      "40/40 [==============================] - 0s 1ms/step - loss: 0.3558 - accuracy: 0.8726\n",
      "\n",
      "Test accuracy: 87.26000189781189\n"
     ]
    }
   ],
   "source": [
    "test_loss, test_acc = model_some_layers.evaluate(test_images,  test_labels, batch_size=250)\n",
    "\n",
    "print('\\nTest accuracy:', test_acc*100)"
   ]
  },
  {
   "cell_type": "code",
   "execution_count": 22,
   "metadata": {
    "colab": {
     "base_uri": "https://localhost:8080/"
    },
    "id": "1D5GGWmwLhOE",
    "outputId": "20bc63b2-13c4-412a-8861-1f300928e0c9"
   },
   "outputs": [
    {
     "name": "stdout",
     "output_type": "stream",
     "text": [
      "Model: \"sequential_30\"\n",
      "_________________________________________________________________\n",
      " Layer (type)                Output Shape              Param #   \n",
      "=================================================================\n",
      " dense_90 (Dense)            (None, 150)               117750    \n",
      "                                                                 \n",
      " dense_91 (Dense)            (None, 150)               22650     \n",
      "                                                                 \n",
      " dense_92 (Dense)            (None, 10)                1510      \n",
      "                                                                 \n",
      "=================================================================\n",
      "Total params: 141910 (554.34 KB)\n",
      "Trainable params: 141910 (554.34 KB)\n",
      "Non-trainable params: 0 (0.00 Byte)\n",
      "_________________________________________________________________\n"
     ]
    }
   ],
   "source": [
    "model_some_layers.summary()"
   ]
  },
  {
   "cell_type": "markdown",
   "metadata": {
    "id": "v-PyD1SYE28q"
   },
   "source": [
    "### 7. Предсказания нейросети и  проверка предсказаний"
   ]
  },
  {
   "cell_type": "code",
   "execution_count": 23,
   "metadata": {
    "id": "DnfNA0CrQLSD"
   },
   "outputs": [],
   "source": [
    "probability_model = tf.keras.Sequential([model_some_layers,\n",
    "                                         tf.keras.layers.Softmax()])"
   ]
  },
  {
   "cell_type": "code",
   "execution_count": 24,
   "metadata": {
    "colab": {
     "base_uri": "https://localhost:8080/"
    },
    "id": "Gl91RPhdCaXI",
    "outputId": "cf96a865-9bfb-4f43-f587-77135ed63be2"
   },
   "outputs": [
    {
     "name": "stdout",
     "output_type": "stream",
     "text": [
      "313/313 [==============================] - 0s 768us/step\n"
     ]
    }
   ],
   "source": [
    "predictions = probability_model.predict(test_images)"
   ]
  },
  {
   "cell_type": "code",
   "execution_count": 25,
   "metadata": {
    "colab": {
     "base_uri": "https://localhost:8080/"
    },
    "id": "3DmJEUinCaXK",
    "outputId": "86822f96-925e-4850-d396-d15f2ee8fd3b"
   },
   "outputs": [
    {
     "data": {
      "text/plain": [
       "array([0.06693191, 0.06657659, 0.06828964, 0.06692111, 0.06635953,\n",
       "       0.17164865, 0.06848565, 0.17300393, 0.07196634, 0.17981662],\n",
       "      dtype=float32)"
      ]
     },
     "execution_count": 25,
     "metadata": {},
     "output_type": "execute_result"
    }
   ],
   "source": [
    "predictions[0]"
   ]
  },
  {
   "cell_type": "code",
   "execution_count": 26,
   "metadata": {
    "colab": {
     "base_uri": "https://localhost:8080/"
    },
    "id": "qsqenuPnCaXO",
    "outputId": "4fbf571b-115f-4ec7-9c26-25af2666e915"
   },
   "outputs": [
    {
     "data": {
      "text/plain": [
       "9"
      ]
     },
     "execution_count": 26,
     "metadata": {},
     "output_type": "execute_result"
    }
   ],
   "source": [
    "np.argmax(predictions[0])"
   ]
  },
  {
   "cell_type": "code",
   "execution_count": 27,
   "metadata": {
    "colab": {
     "base_uri": "https://localhost:8080/"
    },
    "id": "Sd7Pgsu6CaXP",
    "outputId": "d4494842-4db9-45d4-87aa-c571f26bb28e"
   },
   "outputs": [
    {
     "data": {
      "text/plain": [
       "array([0., 0., 0., 0., 0., 0., 0., 0., 0., 1.], dtype=float32)"
      ]
     },
     "execution_count": 27,
     "metadata": {},
     "output_type": "execute_result"
    }
   ],
   "source": [
    "test_labels[0]"
   ]
  },
  {
   "cell_type": "markdown",
   "metadata": {},
   "source": [
    "предсказание соответсвует индексу тестовых меток - 9"
   ]
  },
  {
   "cell_type": "code",
   "execution_count": 28,
   "metadata": {},
   "outputs": [
    {
     "data": {
      "text/plain": [
       "2"
      ]
     },
     "execution_count": 28,
     "metadata": {},
     "output_type": "execute_result"
    }
   ],
   "source": [
    "np.argmax(predictions[20])"
   ]
  },
  {
   "cell_type": "code",
   "execution_count": 29,
   "metadata": {},
   "outputs": [
    {
     "data": {
      "text/plain": [
       "array([0., 0., 1., 0., 0., 0., 0., 0., 0., 0.], dtype=float32)"
      ]
     },
     "execution_count": 29,
     "metadata": {},
     "output_type": "execute_result"
    }
   ],
   "source": [
    "test_labels[20]"
   ]
  },
  {
   "cell_type": "markdown",
   "metadata": {},
   "source": [
    "предсказание соответсвует индексу тестовых меток - 2"
   ]
  },
  {
   "cell_type": "markdown",
   "metadata": {},
   "source": [
    "Вывод: Улучшение точности представленной нейронной сети было получено за счет подбора количества скрытых слоев и количества нейронов в каждом скрытом слое, когда метрика accuracy достигала максимального значения при заданных праметрах "
   ]
  },
  {
   "cell_type": "markdown",
   "metadata": {},
   "source": [
    "---"
   ]
  },
  {
   "cell_type": "markdown",
   "metadata": {},
   "source": [
    "## Задание 3"
   ]
  },
  {
   "cell_type": "markdown",
   "metadata": {},
   "source": [
    "## Полезные команды TensorFlow, неразобранные на уроке"
   ]
  },
  {
   "cell_type": "markdown",
   "metadata": {},
   "source": [
    "1. Проверка работы GPU"
   ]
  },
  {
   "cell_type": "code",
   "execution_count": 30,
   "metadata": {},
   "outputs": [
    {
     "name": "stdout",
     "output_type": "stream",
     "text": [
      "[]\n",
      "<built-in method endswith of str object at 0x000001D1BF331890>\n"
     ]
    }
   ],
   "source": [
    "# возвращает доступные GPU \n",
    "\n",
    "x = tf.random.uniform([0, 0])\n",
    "\n",
    "print(tf.config.experimental.list_physical_devices('GPU'))\n",
    "print(x.device.endswith)"
   ]
  },
  {
   "cell_type": "markdown",
   "metadata": {},
   "source": [
    "2. Получение словаря, описывающего среду сборки"
   ]
  },
  {
   "cell_type": "code",
   "execution_count": 31,
   "metadata": {},
   "outputs": [
    {
     "data": {
      "text/plain": [
       "OrderedDict([('is_cuda_build', False),\n",
       "             ('is_rocm_build', False),\n",
       "             ('is_tensorrt_build', False),\n",
       "             ('msvcp_dll_names', 'msvcp140.dll,msvcp140_1.dll')])"
      ]
     },
     "execution_count": 31,
     "metadata": {},
     "output_type": "execute_result"
    }
   ],
   "source": [
    "tf.sysconfig.get_build_info()"
   ]
  },
  {
   "cell_type": "markdown",
   "metadata": {},
   "source": [
    "3. Возвращает флаги компиляции для компиляции с помощью TensorFlow."
   ]
  },
  {
   "cell_type": "code",
   "execution_count": null,
   "metadata": {},
   "outputs": [],
   "source": [
    "print(tf.sysconfig.get_compile_flags())"
   ]
  },
  {
   "cell_type": "markdown",
   "metadata": {},
   "source": [
    "4. Генерация набора классов "
   ]
  },
  {
   "cell_type": "code",
   "execution_count": 33,
   "metadata": {},
   "outputs": [
    {
     "data": {
      "text/plain": [
       "AllCandidateSampler(sampled_candidates=<tf.Tensor: shape=(10,), dtype=int64, numpy=array([0, 1, 2, 3, 4, 5, 6, 7, 8, 9], dtype=int64)>, true_expected_count=<tf.Tensor: shape=(60000, 10), dtype=float32, numpy=\n",
       "array([[1., 1., 1., ..., 1., 1., 1.],\n",
       "       [1., 1., 1., ..., 1., 1., 1.],\n",
       "       [1., 1., 1., ..., 1., 1., 1.],\n",
       "       ...,\n",
       "       [1., 1., 1., ..., 1., 1., 1.],\n",
       "       [1., 1., 1., ..., 1., 1., 1.],\n",
       "       [1., 1., 1., ..., 1., 1., 1.]], dtype=float32)>, sampled_expected_count=<tf.Tensor: shape=(10,), dtype=float32, numpy=array([1., 1., 1., 1., 1., 1., 1., 1., 1., 1.], dtype=float32)>)"
      ]
     },
     "execution_count": 33,
     "metadata": {},
     "output_type": "execute_result"
    }
   ],
   "source": [
    "num_true = 10 # Количество целевых классов на обучающий пример.\n",
    "num_sampled = 10 # Количество возможных позиций \n",
    "\n",
    "tf.random.all_candidate_sampler(\n",
    "    train_labels, num_true, num_sampled, unique=True, seed=None, name=None\n",
    ")"
   ]
  },
  {
   "cell_type": "markdown",
   "metadata": {},
   "source": [
    "5. Подсчет повторов целочисленных значений в тензоре"
   ]
  },
  {
   "cell_type": "code",
   "execution_count": 34,
   "metadata": {},
   "outputs": [
    {
     "name": "stdout",
     "output_type": "stream",
     "text": [
      "SparseTensor(indices=tf.Tensor(\n",
      "[[    0    10]\n",
      " [    0    20]\n",
      " [    0    30]\n",
      " [    1    11]\n",
      " [    1   101]\n",
      " [    1 10001]], shape=(6, 2), dtype=int64), values=tf.Tensor([1 2 1 2 1 1], shape=(6,), dtype=int64), dense_shape=tf.Tensor([    2 10002], shape=(2,), dtype=int64))\n"
     ]
    }
   ],
   "source": [
    "data = np.array([[10, 20, 30, 20], [11, 101, 11, 10001]], dtype=np.int64)\n",
    "output = tf.sparse.bincount(data, axis=-1)\n",
    "print(output)"
   ]
  },
  {
   "cell_type": "code",
   "execution_count": null,
   "metadata": {},
   "outputs": [],
   "source": [
    " "
   ]
  }
 ],
 "metadata": {
  "accelerator": "GPU",
  "colab": {
   "gpuType": "T4",
   "provenance": []
  },
  "kernelspec": {
   "display_name": "Python 3 (ipykernel)",
   "language": "python",
   "name": "python3"
  },
  "language_info": {
   "codemirror_mode": {
    "name": "ipython",
    "version": 3
   },
   "file_extension": ".py",
   "mimetype": "text/x-python",
   "name": "python",
   "nbconvert_exporter": "python",
   "pygments_lexer": "ipython3",
   "version": "3.10.9"
  }
 },
 "nbformat": 4,
 "nbformat_minor": 1
}
