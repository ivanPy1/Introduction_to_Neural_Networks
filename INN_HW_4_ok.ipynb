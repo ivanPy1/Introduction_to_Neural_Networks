{
 "cells": [
  {
   "cell_type": "markdown",
   "id": "5eb58b50",
   "metadata": {},
   "source": [
    "# Практическое задание"
   ]
  },
  {
   "cell_type": "markdown",
   "id": "abc471f9",
   "metadata": {},
   "source": [
    "## Урок 4. Сверточные нейронные сети"
   ]
  },
  {
   "cell_type": "markdown",
   "id": "9a7ed964",
   "metadata": {},
   "source": [
    "1. Попробуйте улучшить точность распознавания образов cifar 10 сверточной нейронной сетью, рассмотренной на уроке. Приложите анализ с описанием того, что улучшает работу нейронной сети, а что ухудшает\n",
    "\n",
    "2. Опишите в анализе, какие изменения необходимо было бы внести в получившуюся нейронную сеть, если бы ей нужно было работать не с cifar10, а с MNIST, CIFAR100 и IMAGENET"
   ]
  },
  {
   "cell_type": "markdown",
   "id": "3571f32f",
   "metadata": {},
   "source": [
    "---"
   ]
  },
  {
   "cell_type": "markdown",
   "id": "191dd344",
   "metadata": {},
   "source": [
    "## 1. Импорт библиотек и модулей "
   ]
  },
  {
   "cell_type": "code",
   "execution_count": 1,
   "id": "b6f632be",
   "metadata": {},
   "outputs": [],
   "source": [
    "# датасет cifar10\n",
    "from tensorflow.keras.datasets import cifar10\n",
    "\n",
    "# пакеты данных тензорного изображения \n",
    "from tensorflow.keras.preprocessing.image import ImageDataGenerator\n",
    "\n",
    "# для нормализации входных данных \n",
    "from keras.layers import BatchNormalization\n",
    "\n",
    "# для формирования бинарной матрицы класса \n",
    "from tensorflow.keras.utils import to_categorical\n",
    "\n",
    "from tensorflow.keras.models import Sequential\n",
    "\n",
    "from tensorflow.keras.layers import Dense, Dropout, Activation, Flatten\n",
    "\n",
    "# свертка, пулинг \n",
    "from tensorflow.keras.layers import Conv2D, MaxPooling2D\n",
    "\n",
    "# визуализация\n",
    "import matplotlib.pyplot as plt\n",
    "\n",
    "import os\n",
    "import numpy as np\n",
    "import pandas as pd"
   ]
  },
  {
   "cell_type": "code",
   "execution_count": 2,
   "id": "88704bc7",
   "metadata": {},
   "outputs": [],
   "source": [
    "# список классов изображений \n",
    "classes = ['самолет', 'автомобиль', 'птица', 'кот', 'олень', 'собака', 'лягушка', 'лошадь', 'корабль', 'грузовик']"
   ]
  },
  {
   "cell_type": "markdown",
   "id": "9ad259ba",
   "metadata": {},
   "source": [
    "## 2. Установка параметров нейросети"
   ]
  },
  {
   "cell_type": "code",
   "execution_count": 3,
   "id": "1ada596f",
   "metadata": {},
   "outputs": [
    {
     "name": "stdout",
     "output_type": "stream",
     "text": [
      "Model: \"sequential\"\n",
      "_________________________________________________________________\n",
      " Layer (type)                Output Shape              Param #   \n",
      "=================================================================\n",
      " batch_normalization (Batch  (None, 8, 8, 2)           8         \n",
      " Normalization)                                                  \n",
      "                                                                 \n",
      "=================================================================\n",
      "Total params: 8 (32.00 Byte)\n",
      "Trainable params: 4 (16.00 Byte)\n",
      "Non-trainable params: 4 (16.00 Byte)\n",
      "_________________________________________________________________\n"
     ]
    }
   ],
   "source": [
    "# норамализация входных данных \n",
    "Sequential([\n",
    "    BatchNormalization(input_shape=(8, 8, 2))\n",
    "]).summary()"
   ]
  },
  {
   "cell_type": "code",
   "execution_count": 4,
   "id": "a4c00e47",
   "metadata": {},
   "outputs": [],
   "source": [
    "batch_size = 512\n",
    "num_classes = 10\n",
    "epochs = 5\n",
    "data_augmentation = False\n",
    "num_predictions = 20\n",
    "\n",
    "save_dir = os.path.join(os.getcwd(), 'saved_models')\n",
    "model_name = 'keras_cifar10_trained_model.h5'"
   ]
  },
  {
   "cell_type": "markdown",
   "id": "51449902",
   "metadata": {},
   "source": [
    "## 3. Формирование тренировочной и тестовой подвыборки"
   ]
  },
  {
   "cell_type": "code",
   "execution_count": 5,
   "id": "723f8314",
   "metadata": {},
   "outputs": [
    {
     "name": "stdout",
     "output_type": "stream",
     "text": [
      "X_train shape: (50000, 32, 32, 3)\n",
      "50000 тренировочные примеры\n",
      "10000 тестовые примеры\n"
     ]
    }
   ],
   "source": [
    "(X_train, y_train), (X_test, y_test) = cifar10.load_data()\n",
    "print('X_train shape:', X_train.shape)\n",
    "print(X_train.shape[0], 'тренировочные примеры')\n",
    "print(X_test.shape[0], 'тестовые примеры')"
   ]
  },
  {
   "cell_type": "markdown",
   "id": "e601d8b1",
   "metadata": {},
   "source": [
    "## 4. Преобразование матрицы чисел 0-9 в бинарную матрицу чисел 0-1"
   ]
  },
  {
   "cell_type": "code",
   "execution_count": 6,
   "id": "c4a6ad46",
   "metadata": {},
   "outputs": [],
   "source": [
    "y_train = to_categorical(y_train, num_classes)\n",
    "y_test = to_categorical(y_test, num_classes)\n",
    "\n",
    "X_train = X_train / 255.0\n",
    "X_test = X_test / 255.0"
   ]
  },
  {
   "cell_type": "code",
   "execution_count": 7,
   "id": "934cf79b",
   "metadata": {},
   "outputs": [
    {
     "data": {
      "image/png": "[encoded data removed]",
      "text/plain": [
       "<Figure size 640x480 with 1 Axes>"
      ]
     },
     "metadata": {},
     "output_type": "display_data"
    }
   ],
   "source": [
    "N = 50\n",
    "\n",
    "plt.imshow(X_test[N])\n",
    "plt.title(classes[np.argmax(y_test[N,:])])\n",
    "plt.show()"
   ]
  },
  {
   "cell_type": "markdown",
   "id": "ee061084",
   "metadata": {},
   "source": [
    "## 5. Создание модели нейронной сети"
   ]
  },
  {
   "cell_type": "code",
   "execution_count": 8,
   "id": "60feeed9",
   "metadata": {},
   "outputs": [
    {
     "name": "stdout",
     "output_type": "stream",
     "text": [
      "Model: \"sequential_1\"\n",
      "_________________________________________________________________\n",
      " Layer (type)                Output Shape              Param #   \n",
      "=================================================================\n",
      " conv2d (Conv2D)             (None, 32, 32, 32)        896       \n",
      "                                                                 \n",
      " activation (Activation)     (None, 32, 32, 32)        0         \n",
      "                                                                 \n",
      " conv2d_1 (Conv2D)           (None, 30, 30, 32)        9248      \n",
      "                                                                 \n",
      " activation_1 (Activation)   (None, 30, 30, 32)        0         \n",
      "                                                                 \n",
      " max_pooling2d (MaxPooling2  (None, 15, 15, 32)        0         \n",
      " D)                                                              \n",
      "                                                                 \n",
      " dropout (Dropout)           (None, 15, 15, 32)        0         \n",
      "                                                                 \n",
      " conv2d_2 (Conv2D)           (None, 15, 15, 64)        18496     \n",
      "                                                                 \n",
      " activation_2 (Activation)   (None, 15, 15, 64)        0         \n",
      "                                                                 \n",
      " conv2d_3 (Conv2D)           (None, 13, 13, 64)        36928     \n",
      "                                                                 \n",
      " activation_3 (Activation)   (None, 13, 13, 64)        0         \n",
      "                                                                 \n",
      " max_pooling2d_1 (MaxPoolin  (None, 6, 6, 64)          0         \n",
      " g2D)                                                            \n",
      "                                                                 \n",
      " dropout_1 (Dropout)         (None, 6, 6, 64)          0         \n",
      "                                                                 \n",
      " flatten (Flatten)           (None, 2304)              0         \n",
      "                                                                 \n",
      " dense (Dense)               (None, 512)               1180160   \n",
      "                                                                 \n",
      " activation_4 (Activation)   (None, 512)               0         \n",
      "                                                                 \n",
      " dropout_2 (Dropout)         (None, 512)               0         \n",
      "                                                                 \n",
      " dense_1 (Dense)             (None, 10)                5130      \n",
      "                                                                 \n",
      " activation_5 (Activation)   (None, 10)                0         \n",
      "                                                                 \n",
      "=================================================================\n",
      "Total params: 1250858 (4.77 MB)\n",
      "Trainable params: 1250858 (4.77 MB)\n",
      "Non-trainable params: 0 (0.00 Byte)\n",
      "_________________________________________________________________\n"
     ]
    }
   ],
   "source": [
    "# конфигурирование слоев нейросети\n",
    "model = Sequential()\n",
    "\n",
    "# слои нейросети отвественные за свертку и max-pooling\n",
    "model.add(Conv2D(32, (3, 3), padding='same', input_shape=X_train.shape[1:]))\n",
    "model.add(Activation('relu'))\n",
    "model.add(Conv2D(32, (3, 3)))\n",
    "model.add(Activation('relu'))\n",
    "model.add(MaxPooling2D(pool_size=(2, 2)))\n",
    "model.add(Dropout(0.25))\n",
    "\n",
    "model.add(Conv2D(64, (3, 3), padding='same'))\n",
    "model.add(Activation('relu'))\n",
    "model.add(Conv2D(64, (3, 3)))\n",
    "model.add(Activation('relu'))\n",
    "model.add(MaxPooling2D(pool_size=(2, 2)))\n",
    "model.add(Dropout(0.25))\n",
    "\n",
    "# полносвязные слои нейронной сети\n",
    "model.add(Flatten())\n",
    "model.add(Dense(512))\n",
    "model.add(Activation('relu'))\n",
    "model.add(Dropout(0.5))\n",
    "model.add(Dense(num_classes))\n",
    "model.add(Activation('softmax'))\n",
    "\n",
    "model.summary()\n",
    "# компиляция модели\n",
    "model.compile(loss='categorical_crossentropy',\n",
    "              optimizer='SGD',\n",
    "              metrics=['accuracy'])"
   ]
  },
  {
   "cell_type": "markdown",
   "id": "9ce0e8a4",
   "metadata": {},
   "source": [
    "##  6. Аугментация "
   ]
  },
  {
   "cell_type": "code",
   "execution_count": 9,
   "id": "1b24b15f",
   "metadata": {},
   "outputs": [],
   "source": [
    "data_augmentation = False"
   ]
  },
  {
   "cell_type": "code",
   "execution_count": 10,
   "id": "9899d10f",
   "metadata": {},
   "outputs": [
    {
     "name": "stdout",
     "output_type": "stream",
     "text": [
      "Не используется data augmentation\n",
      "Epoch 1/5\n",
      "391/391 [==============================] - 88s 224ms/step - loss: 2.2896 - accuracy: 0.1230 - val_loss: 2.2353 - val_accuracy: 0.1647\n",
      "Epoch 2/5\n",
      "391/391 [==============================] - 85s 218ms/step - loss: 2.1154 - accuracy: 0.2097 - val_loss: 1.9987 - val_accuracy: 0.2783\n",
      "Epoch 3/5\n",
      "391/391 [==============================] - 85s 218ms/step - loss: 2.0103 - accuracy: 0.2589 - val_loss: 1.9378 - val_accuracy: 0.3120\n",
      "Epoch 4/5\n",
      "391/391 [==============================] - 88s 225ms/step - loss: 1.9471 - accuracy: 0.2898 - val_loss: 1.8845 - val_accuracy: 0.3322\n",
      "Epoch 5/5\n",
      "391/391 [==============================] - 95s 244ms/step - loss: 1.8673 - accuracy: 0.3275 - val_loss: 1.7843 - val_accuracy: 0.3705\n"
     ]
    }
   ],
   "source": [
    "if not data_augmentation:\n",
    "    print('Не используется data augmentation')\n",
    "    model.fit(X_train, y_train,\n",
    "              batch_size=128,\n",
    "              epochs=5,\n",
    "              validation_data=(X_test, y_test),\n",
    "              shuffle=True)\n",
    "else:\n",
    "    print('Использование data augmentation')\n",
    "    # Препроцессинг и data augmentation в реальном времени:\n",
    "    datagen = ImageDataGenerator(\n",
    "        featurewise_center=False,\n",
    "        samplewise_center=False,\n",
    "        featurewise_std_normalization=False,\n",
    "        samplewise_std_normalization=False,\n",
    "        zca_whitening=False, \n",
    "        zca_epsilon=1e-06, \n",
    "        rotation_range=10, \n",
    "        width_shift_range=0.1,\n",
    "        height_shift_range=0.1,\n",
    "        shear_range=0., \n",
    "        zoom_range=0.2, \n",
    "        channel_shift_range=0.,\n",
    "        fill_mode='nearest',\n",
    "        cval=0.,\n",
    "        horizontal_flip=True,\n",
    "        vertical_flip=False,\n",
    "        rescale=None,\n",
    "        preprocessing_function=None,\n",
    "        data_format=None,\n",
    "        validation_split=0.0)\n",
    "\n",
    "\n",
    "    train_gen = datagen.flow(X_train, \n",
    "                             y_train,\n",
    "                             batch_size=batch_size)\n",
    "\n",
    "    # запуск data augmentation через fit_generator\n",
    "    model.fit(train_gen,\n",
    "              epochs=epochs,\n",
    "              validation_data=(X_test, y_test))"
   ]
  },
  {
   "cell_type": "markdown",
   "id": "1b772856",
   "metadata": {},
   "source": [
    "## 7. Проверка работы обученной модели "
   ]
  },
  {
   "cell_type": "code",
   "execution_count": 11,
   "id": "ab1a7dfe",
   "metadata": {},
   "outputs": [
    {
     "name": "stdout",
     "output_type": "stream",
     "text": [
      "313/313 [==============================] - 4s 12ms/step - loss: 1.7843 - accuracy: 0.3705\n",
      "Test loss: 1.7843118906021118\n",
      "Test accuracy: 0.37049999833106995\n"
     ]
    }
   ],
   "source": [
    "scores = model.evaluate(X_test, y_test, verbose=1)\n",
    "print('Test loss:', scores[0])\n",
    "print('Test accuracy:', scores[1])"
   ]
  },
  {
   "cell_type": "code",
   "execution_count": 12,
   "id": "dacd7609",
   "metadata": {},
   "outputs": [],
   "source": [
    "# N = 3\n",
    "# y_p = model.predict(X_test[N:N+1])\n",
    "# y_t = np.argmax(y_test[N:N+1], axis = 1 )\n",
    "# y_i = np.argmax(y_p, axis = 1 )\n",
    "# plt.imshow(X_test[N])\n",
    "# plt.title(f'это : {classes[y_t[0]]} - опознан как : {classes[y_i[0]]}')\n",
    "# plt.show()"
   ]
  },
  {
   "cell_type": "markdown",
   "id": "e6ee4087",
   "metadata": {},
   "source": [
    "## 8. Подбор гиперпараметров и анализ их влияния на качество нейройнной сети "
   ]
  },
  {
   "cell_type": "code",
   "execution_count": 8,
   "id": "01def50e",
   "metadata": {},
   "outputs": [],
   "source": [
    "# создадим словарь с параметрами \n",
    "diсt_params = {\n",
    "    'set_1': (2, 32), # первое значение - количество слоев, второй - количество фильтров \n",
    "    'set_2': (2, 64),\n",
    "    'set_3': (3, 32),\n",
    "    'set_4': (3, 64)  \n",
    "}\n",
    "\n",
    "# список для сохранения результатов\n",
    "list_metris_total_cnn_cifar10 = []\n",
    "\n",
    "# список наименований столбцов\n",
    "list_cols_cnn_cifar10 = ['кол_во_слоев', 'кол_во_фильтров', 'accuracy']"
   ]
  },
  {
   "cell_type": "code",
   "execution_count": 9,
   "id": "1af100be",
   "metadata": {},
   "outputs": [],
   "source": [
    "# функция для подбора гиперпараметров \n",
    "\n",
    "def model_cnn_cifar10(X_train, y_test, **kwargs):\n",
    "    l_nn = kwargs.get(k) # количество слоев и количество фильтров - значение словаря \n",
    "    \n",
    "    layes_num = l_nn[0] # количество слоев \n",
    "    filters_num = l_nn[1] # количество фильтров\n",
    "    \n",
    "    # конфигурирование слоев нейросети\n",
    "    model = Sequential()\n",
    "    for i in range(layes_num):\n",
    "        # слои нейросети отвественные за свертку и max-pooling\n",
    "        model.add(Conv2D(filters_num, (3, 3), padding='same', input_shape=X_train.shape[1:]))\n",
    "        model.add(Activation('relu'))\n",
    "        model.add(Conv2D(filters_num, (3, 3)))\n",
    "        model.add(Activation('relu'))\n",
    "        model.add(MaxPooling2D(pool_size=(2, 2)))\n",
    "        model.add(Dropout(0.25))\n",
    "        \n",
    "  # полносвязные слои нейронной сети\n",
    "    model.add(Flatten())\n",
    "    model.add(Dense(512))\n",
    "    model.add(Activation('relu'))\n",
    "    model.add(Dropout(0.5))\n",
    "    model.add(Dense(num_classes))\n",
    "    model.add(Activation('softmax'))  \n",
    "\n",
    "    \n",
    "    # компиляция модели \n",
    "    model.compile(loss='categorical_crossentropy', optimizer='SGD', metrics=['accuracy'])\n",
    "    \n",
    "    history = model.fit(X_train, y_train,\n",
    "                    epochs=5,\n",
    "                    batch_size=512,\n",
    "                    verbose=0,\n",
    "                    validation_data=(X_test, y_test)\n",
    "                    )\n",
    "    \n",
    "#     print(f\"слоев - {layes_num}, фильтров - {filters_num}, accuracy - {round(float(history.history['accuracy'][0])*100, 2)}\")\n",
    "    \n",
    "    \n",
    "    best_metrics_model_two_layers = round(float(history.history['accuracy'][0])*100, 2) \n",
    "    list_total = []\n",
    "    list_total.append(layes_num) # количество слоев\n",
    "    list_total.append(filters_num) # количество фильтром\n",
    "    list_total.append(best_metrics_model_two_layers) # значение accuracy\n",
    "    \n",
    "    list_metris_total_cnn_cifar10.append(list_total)    "
   ]
  },
  {
   "cell_type": "code",
   "execution_count": 10,
   "id": "bdc734a1",
   "metadata": {},
   "outputs": [
    {
     "name": "stdout",
     "output_type": "stream",
     "text": [
      "CPU times: total: 54min 8s\n",
      "Wall time: 8min 12s\n"
     ]
    }
   ],
   "source": [
    "%%time\n",
    "\n",
    "for k in diсt_params:\n",
    "    model_cnn_cifar10(X_train=X_train, y_test=y_test, **diсt_params)\n",
    "    \n",
    "# CPU times: total: 54min 8s\n",
    "# Wall time: 8min 12s"
   ]
  },
  {
   "cell_type": "code",
   "execution_count": 11,
   "id": "ae0eaf3b",
   "metadata": {},
   "outputs": [
    {
     "data": {
      "text/html": [
       "<div>\n",
       "<style scoped>\n",
       "    .dataframe tbody tr th:only-of-type {\n",
       "        vertical-align: middle;\n",
       "    }\n",
       "\n",
       "    .dataframe tbody tr th {\n",
       "        vertical-align: top;\n",
       "    }\n",
       "\n",
       "    .dataframe thead th {\n",
       "        text-align: right;\n",
       "    }\n",
       "</style>\n",
       "<table border=\"1\" class=\"dataframe\">\n",
       "  <thead>\n",
       "    <tr style=\"text-align: right;\">\n",
       "      <th></th>\n",
       "      <th>кол_во_слоев</th>\n",
       "      <th>кол_во_фильтров</th>\n",
       "      <th>accuracy</th>\n",
       "    </tr>\n",
       "  </thead>\n",
       "  <tbody>\n",
       "    <tr>\n",
       "      <th>1</th>\n",
       "      <td>2</td>\n",
       "      <td>64</td>\n",
       "      <td>22.06</td>\n",
       "    </tr>\n",
       "    <tr>\n",
       "      <th>0</th>\n",
       "      <td>2</td>\n",
       "      <td>32</td>\n",
       "      <td>19.11</td>\n",
       "    </tr>\n",
       "    <tr>\n",
       "      <th>3</th>\n",
       "      <td>3</td>\n",
       "      <td>64</td>\n",
       "      <td>15.78</td>\n",
       "    </tr>\n",
       "    <tr>\n",
       "      <th>2</th>\n",
       "      <td>3</td>\n",
       "      <td>32</td>\n",
       "      <td>13.50</td>\n",
       "    </tr>\n",
       "  </tbody>\n",
       "</table>\n",
       "</div>"
      ],
      "text/plain": [
       "   кол_во_слоев  кол_во_фильтров  accuracy\n",
       "1             2               64     22.06\n",
       "0             2               32     19.11\n",
       "3             3               64     15.78\n",
       "2             3               32     13.50"
      ]
     },
     "execution_count": 11,
     "metadata": {},
     "output_type": "execute_result"
    }
   ],
   "source": [
    "# сформируем датасет из списков \n",
    "metris_total_cnn_cifar10 = pd.DataFrame(list_metris_total_cnn_cifar10, columns=list_cols_cnn_cifar10)\n",
    "# отсортируем полученные данные по столбцу точность нейронной сети(accuracy)\n",
    "metris_total_cnn_cifar10.sort_values(by=list_cols_cnn_cifar10[2], ascending=False)"
   ]
  },
  {
   "cell_type": "markdown",
   "id": "9d2306c7",
   "metadata": {},
   "source": [
    "Вывод: Улучшение работы нейронной сети в большей степени связано с увеличением количества фильтров, то есть увеличением ширины сети, чем с увеличением глубины.\n",
    "Для работы с CIFAR100 и IMAGENET необходимо было бы провести агументацию, увеличить количество фильтров\n",
    "для MNIST - увеличить количество слоев"
   ]
  },
  {
   "cell_type": "code",
   "execution_count": null,
   "id": "77f77a39",
   "metadata": {},
   "outputs": [],
   "source": []
  }
 ],
 "metadata": {
  "kernelspec": {
   "display_name": "Python 3 (ipykernel)",
   "language": "python",
   "name": "python3"
  },
  "language_info": {
   "codemirror_mode": {
    "name": "ipython",
    "version": 3
   },
   "file_extension": ".py",
   "mimetype": "text/x-python",
   "name": "python",
   "nbconvert_exporter": "python",
   "pygments_lexer": "ipython3",
   "version": "3.10.9"
  }
 },
 "nbformat": 4,
 "nbformat_minor": 5
}
