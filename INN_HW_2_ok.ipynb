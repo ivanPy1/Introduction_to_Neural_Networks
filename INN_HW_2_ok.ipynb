{
 "cells": [
  {
   "cell_type": "markdown",
   "metadata": {},
   "source": [
    "# Практическое задание"
   ]
  },
  {
   "cell_type": "markdown",
   "metadata": {
    "id": "XvhEhpGm9U8z"
   },
   "source": [
    "## Введение в искусственные нейронные сети\n",
    "## Урок 2. Keras"
   ]
  },
  {
   "cell_type": "markdown",
   "metadata": {
    "id": "NRSQbmXD9U98"
   },
   "source": [
    "## Домашнее задание <a class='anchor' id='hw'>\n",
    "\n",
    "Используем набор примеров fashion-MNIST\n",
    "1. Опишите - какой результат нейросети получен в зависимости от:\n",
    "  - числа нейронов в слое (для 2-х слойной сети),\n",
    "  - числа слоев (2, 3, 5, 10) при близких размерах сети (близкое число тренируемых параметров).\n",
    "  - фиксируйте для тренировочного и тестового набора метрики accuracy.\n",
    "2.  Проверьте работу разных оптимизаторов (SGD, Adam, RMSProp) для одной из моделей п.1. Фиксируйте для тренировочного и тестового набора метрики accuracy.\n",
    "\n",
    "3. Сделайте вывод - что помогло вам улучшить качество классификации в нейросети на тестовом наборе?\n",
    "\n",
    "4. Для одного варианта сети сформируйте матрицу ошибок по классам. Оцените качество модели по каждому классу отдельно (полнота, точность)."
   ]
  },
  {
   "cell_type": "markdown",
   "metadata": {},
   "source": [
    "### 1. Импорт библиотек и модулей "
   ]
  },
  {
   "cell_type": "code",
   "execution_count": 1,
   "metadata": {},
   "outputs": [],
   "source": [
    "import pandas as pd\n",
    "\n",
    "# визуализация\n",
    "import matplotlib.pyplot as plt\n",
    "\n",
    "# математика\n",
    "import numpy as np\n",
    "\n",
    "# для создания комбинация числа нейронов сркытых слоев\n",
    "from itertools import combinations, combinations_with_replacement\n",
    "\n",
    "# датасет \n",
    "from keras.datasets import fashion_mnist\n",
    "\n",
    "# создание модели нейронной сети \n",
    "from keras.layers import Dense       # Полносвязный линейный слой\n",
    "from keras.models import Sequential  # Класс последовательности слоев\n",
    "\n",
    "from keras.utils import to_categorical\n",
    "\n",
    "# оптимизаторы\n",
    "from keras import optimizers\n",
    "\n",
    "# для построения матрицы ошибок\n",
    "from sklearn.metrics import confusion_matrix\n",
    "\n",
    "# визуализация нейронной сети \n",
    "# from keras.utils.vis_utils import plot_model"
   ]
  },
  {
   "cell_type": "code",
   "execution_count": 2,
   "metadata": {},
   "outputs": [],
   "source": [
    "import warnings\n",
    "warnings.simplefilter(action='ignore', category=FutureWarning)"
   ]
  },
  {
   "cell_type": "code",
   "execution_count": 3,
   "metadata": {
    "colab": {
     "base_uri": "https://localhost:8080/"
    },
    "id": "p4nwbYNAJfbo",
    "outputId": "43093323-3fdc-4fcb-e0aa-6495e1d863ef"
   },
   "outputs": [
    {
     "name": "stdout",
     "output_type": "stream",
     "text": [
      "(60000, 28, 28) (10000, 28, 28)\n",
      "(60000,)\n"
     ]
    }
   ],
   "source": [
    "(X_train, y_train_labels), (X_test, y_test_labels) = fashion_mnist.load_data()\n",
    "\n",
    "print(X_train.shape, X_test.shape)\n",
    "print(y_train_labels.shape)"
   ]
  },
  {
   "cell_type": "markdown",
   "metadata": {},
   "source": [
    "анализ содержимого:\n",
    "\n",
    "1. X_train содержит 60 000 изображений размером 28 х 28\n",
    "2. X_test датасет содержит 10 000 изображений размером 28 х 28\n",
    "3. y_train_labels содержит 60 000 меток"
   ]
  },
  {
   "cell_type": "code",
   "execution_count": 4,
   "metadata": {},
   "outputs": [
    {
     "name": "stdout",
     "output_type": "stream",
     "text": [
      "Label is 4\n"
     ]
    },
    {
     "data": {
      "image/png": "[encoded data removed]",
      "text/plain": [
       "<Figure size 640x480 with 1 Axes>"
      ]
     },
     "metadata": {},
     "output_type": "display_data"
    }
   ],
   "source": [
    "ind = np.random.randint(0, X_train.shape[0])\n",
    "plt.imshow(X_train[ind], cmap='gray')\n",
    "print(f'Label is {y_train_labels[ind]}')"
   ]
  },
  {
   "cell_type": "markdown",
   "metadata": {},
   "source": [
    "### 2. Нормировка"
   ]
  },
  {
   "cell_type": "code",
   "execution_count": 5,
   "metadata": {
    "colab": {
     "base_uri": "https://localhost:8080/"
    },
    "id": "M6s8m-_8MEwx",
    "outputId": "1a7dfe75-1eab-4641-858b-6171a9dc48f5"
   },
   "outputs": [
    {
     "data": {
      "text/plain": [
       "(0.0, 1.0)"
      ]
     },
     "execution_count": 5,
     "metadata": {},
     "output_type": "execute_result"
    }
   ],
   "source": [
    "X_train = X_train / 255.0\n",
    "X_test = X_test / 255.0\n",
    "X_train.min(), X_train.max()"
   ]
  },
  {
   "cell_type": "markdown",
   "metadata": {
    "id": "8FKDY-TRJfbN"
   },
   "source": [
    "### 3. Reshape"
   ]
  },
  {
   "cell_type": "code",
   "execution_count": 6,
   "metadata": {
    "colab": {
     "base_uri": "https://localhost:8080/"
    },
    "id": "Ppr9lTS_JfbO",
    "outputId": "f189218f-e266-4e67-c4a5-c9e01799130c"
   },
   "outputs": [
    {
     "data": {
      "text/plain": [
       "array([[ 0,  1,  2,  3,  4,  5,  6,  7,  8,  9, 10, 11, 12, 13, 14, 15,\n",
       "        16, 17, 18, 19, 20, 21, 22, 23, 24, 25, 26, 27, 28, 29, 30, 31,\n",
       "        32, 33, 34, 35, 36, 37, 38, 39, 40, 41, 42, 43, 44, 45, 46, 47,\n",
       "        48, 49, 50, 51, 52, 53, 54, 55, 56, 57, 58, 59, 60, 61, 62, 63,\n",
       "        64, 65, 66, 67, 68, 69, 70, 71, 72, 73, 74, 75, 76, 77, 78, 79,\n",
       "        80, 81, 82, 83, 84, 85, 86, 87, 88, 89, 90, 91, 92, 93, 94, 95,\n",
       "        96, 97, 98, 99]])"
      ]
     },
     "execution_count": 6,
     "metadata": {},
     "output_type": "execute_result"
    }
   ],
   "source": [
    "v = np.array([x for x in range(100)])\n",
    "v.reshape(1,100)"
   ]
  },
  {
   "cell_type": "code",
   "execution_count": 7,
   "metadata": {
    "colab": {
     "base_uri": "https://localhost:8080/"
    },
    "id": "L4loJteUNIAp",
    "outputId": "9b9a870d-55e1-40ab-b5a4-b434ff60085a"
   },
   "outputs": [
    {
     "data": {
      "text/plain": [
       "((60000, 784), (10000, 784))"
      ]
     },
     "execution_count": 7,
     "metadata": {},
     "output_type": "execute_result"
    }
   ],
   "source": [
    "# Вытягивание признаков\n",
    "X_train = X_train.reshape((-1, 28 * 28))\n",
    "X_test = X_test.reshape((-1, 28 * 28))\n",
    "\n",
    "X_train.shape, X_test.shape"
   ]
  },
  {
   "cell_type": "code",
   "execution_count": 8,
   "metadata": {
    "colab": {
     "base_uri": "https://localhost:8080/"
    },
    "id": "QvJAO5-_Qt-V",
    "outputId": "07622f41-f8ff-4754-f814-f2ec3d2116b6"
   },
   "outputs": [],
   "source": [
    "v = X_train[0].copy()\n",
    "v[v > 0] = 1\n",
    "v = v.astype(np.int16)"
   ]
  },
  {
   "cell_type": "markdown",
   "metadata": {
    "id": "jnUt9U3_9U9x"
   },
   "source": [
    "### 4. Создание модели на Keras "
   ]
  },
  {
   "cell_type": "markdown",
   "metadata": {},
   "source": [
    "#### 4.1. Инициализация гиперпараметров"
   ]
  },
  {
   "cell_type": "code",
   "execution_count": 9,
   "metadata": {},
   "outputs": [
    {
     "data": {
      "text/plain": [
       "[32, 64, 128, 256]"
      ]
     },
     "execution_count": 9,
     "metadata": {},
     "output_type": "execute_result"
    }
   ],
   "source": [
    "# число нейронов скрытого слоя\n",
    "# возьмем как значения 2 в степенях от 5 до 9 - 32, 64, 128, 256\n",
    "\n",
    "# список для хранения числа нейронов скрытого слоя \n",
    "neuron_numb = []\n",
    "\n",
    "n = 2\n",
    "for i in range(5, 9): \n",
    "    neuron_numb.append(n**i)\n",
    "\n",
    "neuron_numb"
   ]
  },
  {
   "cell_type": "code",
   "execution_count": 10,
   "metadata": {},
   "outputs": [],
   "source": [
    "# список числа слоев \n",
    "layers_numb = [2, 3, 5, 10] "
   ]
  },
  {
   "cell_type": "code",
   "execution_count": 11,
   "metadata": {},
   "outputs": [],
   "source": [
    "# список для сохранения результатов\n",
    "list_metris_total_neural_network_two_layers = []\n",
    "\n",
    "# список наименований столбцов\n",
    "list_cols = ['one_l_numb', 'second_l_numb', 'layers_numb', 'accuracy']"
   ]
  },
  {
   "cell_type": "markdown",
   "metadata": {},
   "source": [
    "#### 4.2. Построение 2-х слойной нейронной сети"
   ]
  },
  {
   "cell_type": "code",
   "execution_count": 12,
   "metadata": {},
   "outputs": [
    {
     "name": "stdout",
     "output_type": "stream",
     "text": [
      "{'neuron_numb, one_l = 32, second_l = 64': (32, 64), 'neuron_numb, one_l = 32, second_l = 128': (32, 128), 'neuron_numb, one_l = 32, second_l = 256': (32, 256), 'neuron_numb, one_l = 64, second_l = 128': (64, 128), 'neuron_numb, one_l = 64, second_l = 256': (64, 256), 'neuron_numb, one_l = 128, second_l = 256': (128, 256)}\n"
     ]
    },
    {
     "data": {
      "text/plain": [
       "6"
      ]
     },
     "execution_count": 12,
     "metadata": {},
     "output_type": "execute_result"
    }
   ],
   "source": [
    "# создадим комбинации числа нейронов скрытого слоя из списка neuron_numb\n",
    "\n",
    "comb_neuron_numb_dict = {}\n",
    "\n",
    "comb_neuron_numb = combinations(neuron_numb, 2)\n",
    "for i in list(comb_neuron_numb):\n",
    "    name_set_params_nn = 'neuron_numb,' + ' one_l = ' + f'{i[0]},' + ' second_l = ' + f'{i[1]}'\n",
    "    comb_neuron_numb_dict[name_set_params_nn] = i\n",
    "print(comb_neuron_numb_dict)\n",
    "len(comb_neuron_numb_dict)"
   ]
  },
  {
   "cell_type": "code",
   "execution_count": 13,
   "metadata": {
    "scrolled": true
   },
   "outputs": [
    {
     "data": {
      "text/plain": [
       "array([[0., 0., 0., 0., 0., 0., 0., 0., 0., 1.],\n",
       "       [1., 0., 0., 0., 0., 0., 0., 0., 0., 0.],\n",
       "       [1., 0., 0., 0., 0., 0., 0., 0., 0., 0.],\n",
       "       [0., 0., 0., 1., 0., 0., 0., 0., 0., 0.],\n",
       "       [1., 0., 0., 0., 0., 0., 0., 0., 0., 0.]], dtype=float32)"
      ]
     },
     "execution_count": 13,
     "metadata": {},
     "output_type": "execute_result"
    }
   ],
   "source": [
    "y_train = to_categorical(y_train_labels)\n",
    "y_test = to_categorical(y_test_labels)\n",
    "\n",
    "y_train[:5]"
   ]
  },
  {
   "cell_type": "code",
   "execution_count": 14,
   "metadata": {
    "colab": {
     "base_uri": "https://localhost:8080/"
    },
    "id": "aB40PpZ5Nu7v",
    "outputId": "62da3ad0-1a39-4e62-acca-d575216706ed"
   },
   "outputs": [],
   "source": [
    "# функция для получения двухслойной нейронной сети\n",
    "\n",
    "def learning_neural_network_two_layers(X_train, y_train, X_test, y_test, **kwargs):\n",
    "    \n",
    "    l_nn = kwargs.get(k) # зачения количества нейроной первого и второго скрытого слоя\n",
    "    one_l_numb = l_nn[0] # количество нейронов для первого скрытого слоя \n",
    "    second_l_numb = l_nn[1] # количество нейронов для второго скрытого слоя \n",
    "\n",
    "    model_two_layers = Sequential()\n",
    "    \n",
    "    model_two_layers.add(Dense(one_l_numb, input_shape=(28 * 28,), activation='relu')) # input-слой + первый скрытый слой\n",
    "    model_two_layers.add(Dense(second_l_numb, activation='relu')) # второй скрытый слой\n",
    "    \n",
    "    model_two_layers.add(Dense(10, activation='sigmoid')) # output-слой\n",
    "\n",
    "    # компиляция модели \n",
    "    model_two_layers.compile(loss='categorical_crossentropy', optimizer='SGD', metrics=['accuracy'])\n",
    "    \n",
    "    history = model_two_layers.fit(X_train, y_train,\n",
    "                    epochs=5,\n",
    "                    batch_size=256,\n",
    "                    verbose=0,\n",
    "                    validation_data=(X_test, y_test)\n",
    "                    )\n",
    "    \n",
    "    best_metrics_model_two_layers = round(float(history.history['accuracy'][4])*100, 2) # значений accuracy последней эпохи\n",
    "    list_total = []\n",
    "    list_total.append(one_l_numb) # количество нейронов в первом скрытом слое\n",
    "    list_total.append(second_l_numb) # количество нейронов во втором скрытом слое\n",
    "    list_total.append(2) # количество слоев нейронной сети \n",
    "    list_total.append(best_metrics_model_two_layers) # значение accuracy\n",
    "                                          \n",
    "    list_metris_total_neural_network_two_layers.append(list_total)\n",
    "    \n",
    "# model.summary()"
   ]
  },
  {
   "cell_type": "code",
   "execution_count": 15,
   "metadata": {},
   "outputs": [
    {
     "name": "stdout",
     "output_type": "stream",
     "text": [
      "CPU times: total: 39.8 s\n",
      "Wall time: 16 s\n"
     ]
    }
   ],
   "source": [
    "%%time\n",
    "\n",
    "for k in comb_neuron_numb_dict:\n",
    "    learning_neural_network_two_layers(X_train=X_train, \n",
    "                              y_train=y_train, \n",
    "                              X_test=X_test, \n",
    "                              y_test=y_test, \n",
    "                              **comb_neuron_numb_dict)"
   ]
  },
  {
   "cell_type": "code",
   "execution_count": 16,
   "metadata": {},
   "outputs": [
    {
     "data": {
      "text/html": [
       "<div>\n",
       "<style scoped>\n",
       "    .dataframe tbody tr th:only-of-type {\n",
       "        vertical-align: middle;\n",
       "    }\n",
       "\n",
       "    .dataframe tbody tr th {\n",
       "        vertical-align: top;\n",
       "    }\n",
       "\n",
       "    .dataframe thead th {\n",
       "        text-align: right;\n",
       "    }\n",
       "</style>\n",
       "<table border=\"1\" class=\"dataframe\">\n",
       "  <thead>\n",
       "    <tr style=\"text-align: right;\">\n",
       "      <th></th>\n",
       "      <th>one_l_numb</th>\n",
       "      <th>second_l_numb</th>\n",
       "      <th>layers_numb</th>\n",
       "      <th>accuracy</th>\n",
       "    </tr>\n",
       "  </thead>\n",
       "  <tbody>\n",
       "    <tr>\n",
       "      <th>5</th>\n",
       "      <td>128</td>\n",
       "      <td>256</td>\n",
       "      <td>2</td>\n",
       "      <td>80.60</td>\n",
       "    </tr>\n",
       "    <tr>\n",
       "      <th>3</th>\n",
       "      <td>64</td>\n",
       "      <td>128</td>\n",
       "      <td>2</td>\n",
       "      <td>79.61</td>\n",
       "    </tr>\n",
       "    <tr>\n",
       "      <th>4</th>\n",
       "      <td>64</td>\n",
       "      <td>256</td>\n",
       "      <td>2</td>\n",
       "      <td>78.95</td>\n",
       "    </tr>\n",
       "    <tr>\n",
       "      <th>0</th>\n",
       "      <td>32</td>\n",
       "      <td>64</td>\n",
       "      <td>2</td>\n",
       "      <td>78.41</td>\n",
       "    </tr>\n",
       "    <tr>\n",
       "      <th>1</th>\n",
       "      <td>32</td>\n",
       "      <td>128</td>\n",
       "      <td>2</td>\n",
       "      <td>78.37</td>\n",
       "    </tr>\n",
       "    <tr>\n",
       "      <th>2</th>\n",
       "      <td>32</td>\n",
       "      <td>256</td>\n",
       "      <td>2</td>\n",
       "      <td>77.56</td>\n",
       "    </tr>\n",
       "  </tbody>\n",
       "</table>\n",
       "</div>"
      ],
      "text/plain": [
       "   one_l_numb  second_l_numb  layers_numb  accuracy\n",
       "5         128            256            2     80.60\n",
       "3          64            128            2     79.61\n",
       "4          64            256            2     78.95\n",
       "0          32             64            2     78.41\n",
       "1          32            128            2     78.37\n",
       "2          32            256            2     77.56"
      ]
     },
     "execution_count": 16,
     "metadata": {},
     "output_type": "execute_result"
    }
   ],
   "source": [
    "# сформируем датасет из списков, включающих значения о количестве нейронов в первом и втором скрытых слоях и метрику - accuracy \n",
    "data_neural_network_two_layers = pd.DataFrame(list_metris_total_neural_network_two_layers, columns=list_cols)\n",
    "# отсортируем полученные данные по столбцу точность нейронной сети(accuracy)\n",
    "data_neural_network_two_layers.sort_values(by=list_cols[3], ascending=False)"
   ]
  },
  {
   "cell_type": "markdown",
   "metadata": {},
   "source": [
    "Вывод: Увеличение accuracy зависит как от увеличения количества нейронов первого скрытого слоя, так и второго"
   ]
  },
  {
   "cell_type": "markdown",
   "metadata": {},
   "source": [
    "### 4.3. Построение нейронной сети с различными количествами скрытых слоев"
   ]
  },
  {
   "cell_type": "code",
   "execution_count": 17,
   "metadata": {},
   "outputs": [],
   "source": [
    "# создадим комбинации числа нейронов скрытого слоя из списка neuron_numb для разного количества слоев \n",
    "\n",
    "comb_neuron_numb_dict_some_layes = {}\n",
    "\n",
    "n = 1\n",
    "for el in layers_numb:\n",
    "    comb_neuron_numb_layes = combinations_with_replacement(neuron_numb, el)\n",
    "    for i in list(comb_neuron_numb_layes):\n",
    "#         print(i)\n",
    "        comb_neuron_numb_dict_some_layes[str(i)] = i\n",
    "        \n",
    "        \n",
    "# print(comb_neuron_numb_dict_some_layes)\n",
    "\n",
    "# for k in comb_neuron_numb_dict_some_layes:\n",
    "#     print(len(comb_neuron_numb_dict_some_layes.get(k)))"
   ]
  },
  {
   "cell_type": "code",
   "execution_count": 18,
   "metadata": {},
   "outputs": [],
   "source": [
    "# список для сохранения результатов\n",
    "list_metris_total_neural_network_some_layers = []\n",
    "\n",
    "# список наименований столбцов\n",
    "list_cols = ['neuron_numb_for_layers', 'layers_numb', 'accuracy']"
   ]
  },
  {
   "cell_type": "code",
   "execution_count": 19,
   "metadata": {},
   "outputs": [],
   "source": [
    "# функция для получения нейронной сети с различным количеством слоев \n",
    "\n",
    "def learning_neural_network_some_layers(X_train, y_train, X_test, y_test, layers_numb, **kwargs):    \n",
    "    model_some_layers = Sequential()\n",
    "\n",
    "    l_nn = kwargs.get(k)\n",
    "    model_some_layers.add(Dense(l_nn[0], input_shape=(28 * 28,), activation='relu')) # input-слой + первый скрытый слой\n",
    "    \n",
    "           \n",
    "    for i in range(1, n+1): # для кажого слоя в диапазоне от 2-х до ... заданного\n",
    "        model_some_layers.add(Dense(l_nn[n], activation='relu')) # остальные скрытые слои\n",
    "\n",
    "   \n",
    "    model_some_layers.add(Dense(10, activation='sigmoid')) # output-слой\n",
    "\n",
    "    # компиляция модели \n",
    "    model_some_layers.compile(loss='categorical_crossentropy', optimizer='SGD', metrics=['accuracy'])\n",
    "    \n",
    "    history = model_some_layers.fit(X_train, y_train,\n",
    "                    epochs=5,\n",
    "                    batch_size=256,\n",
    "                    verbose=0,\n",
    "                    validation_data=(X_test, y_test)\n",
    "                    )\n",
    "    \n",
    "    best_metrics_model_some_layers = round(float(history.history['accuracy'][4])*100, 2) # значений accuracy последней эпохи\n",
    "#     print(best_metrics_model_some_layers)\n",
    "    list_total = []\n",
    "    list_total.append(l_nn) # количество нейронов по слоям \n",
    "    list_total.append(layers_numb) # количество слоев нейронной сети \n",
    "    list_total.append(best_metrics_model_some_layers) # значение accuracy\n",
    "                                          \n",
    "    list_metris_total_neural_network_some_layers.append(list_total)\n",
    "    \n",
    "# model.summary()"
   ]
  },
  {
   "cell_type": "code",
   "execution_count": 20,
   "metadata": {},
   "outputs": [
    {
     "name": "stdout",
     "output_type": "stream",
     "text": [
      "CPU times: total: 38min 17s\n",
      "Wall time: 16min 58s\n"
     ]
    }
   ],
   "source": [
    "%%time\n",
    "\n",
    "for k in comb_neuron_numb_dict_some_layes:\n",
    "    learning_neural_network_some_layers(X_train=X_train, \n",
    "                              y_train=y_train, \n",
    "                              X_test=X_test, \n",
    "                              y_test=y_test, \n",
    "                              layers_numb=int(len(comb_neuron_numb_dict_some_layes.get(k))),  \n",
    "                              **comb_neuron_numb_dict_some_layes)"
   ]
  },
  {
   "cell_type": "code",
   "execution_count": 21,
   "metadata": {},
   "outputs": [
    {
     "data": {
      "text/html": [
       "<div>\n",
       "<style scoped>\n",
       "    .dataframe tbody tr th:only-of-type {\n",
       "        vertical-align: middle;\n",
       "    }\n",
       "\n",
       "    .dataframe tbody tr th {\n",
       "        vertical-align: top;\n",
       "    }\n",
       "\n",
       "    .dataframe thead th {\n",
       "        text-align: right;\n",
       "    }\n",
       "</style>\n",
       "<table border=\"1\" class=\"dataframe\">\n",
       "  <thead>\n",
       "    <tr style=\"text-align: right;\">\n",
       "      <th></th>\n",
       "      <th>neuron_numb_for_layers</th>\n",
       "      <th>layers_numb</th>\n",
       "      <th>accuracy</th>\n",
       "    </tr>\n",
       "  </thead>\n",
       "  <tbody>\n",
       "    <tr>\n",
       "      <th>85</th>\n",
       "      <td>(256, 256, 256, 256, 256)</td>\n",
       "      <td>5</td>\n",
       "      <td>81.59</td>\n",
       "    </tr>\n",
       "    <tr>\n",
       "      <th>371</th>\n",
       "      <td>(256, 256, 256, 256, 256, 256, 256, 256, 256, ...</td>\n",
       "      <td>10</td>\n",
       "      <td>81.37</td>\n",
       "    </tr>\n",
       "    <tr>\n",
       "      <th>9</th>\n",
       "      <td>(256, 256)</td>\n",
       "      <td>2</td>\n",
       "      <td>81.34</td>\n",
       "    </tr>\n",
       "    <tr>\n",
       "      <th>367</th>\n",
       "      <td>(128, 128, 128, 128, 256, 256, 256, 256, 256, ...</td>\n",
       "      <td>10</td>\n",
       "      <td>81.20</td>\n",
       "    </tr>\n",
       "    <tr>\n",
       "      <th>29</th>\n",
       "      <td>(256, 256, 256)</td>\n",
       "      <td>3</td>\n",
       "      <td>81.02</td>\n",
       "    </tr>\n",
       "    <tr>\n",
       "      <th>...</th>\n",
       "      <td>...</td>\n",
       "      <td>...</td>\n",
       "      <td>...</td>\n",
       "    </tr>\n",
       "    <tr>\n",
       "      <th>144</th>\n",
       "      <td>(32, 32, 32, 32, 64, 64, 64, 64, 64, 256)</td>\n",
       "      <td>10</td>\n",
       "      <td>75.61</td>\n",
       "    </tr>\n",
       "    <tr>\n",
       "      <th>117</th>\n",
       "      <td>(32, 32, 32, 32, 32, 32, 128, 128, 128, 256)</td>\n",
       "      <td>10</td>\n",
       "      <td>75.30</td>\n",
       "    </tr>\n",
       "    <tr>\n",
       "      <th>134</th>\n",
       "      <td>(32, 32, 32, 32, 32, 64, 128, 256, 256, 256)</td>\n",
       "      <td>10</td>\n",
       "      <td>75.07</td>\n",
       "    </tr>\n",
       "    <tr>\n",
       "      <th>109</th>\n",
       "      <td>(32, 32, 32, 32, 32, 32, 64, 64, 128, 128)</td>\n",
       "      <td>10</td>\n",
       "      <td>74.87</td>\n",
       "    </tr>\n",
       "    <tr>\n",
       "      <th>196</th>\n",
       "      <td>(32, 32, 32, 64, 128, 256, 256, 256, 256, 256)</td>\n",
       "      <td>10</td>\n",
       "      <td>73.88</td>\n",
       "    </tr>\n",
       "  </tbody>\n",
       "</table>\n",
       "<p>372 rows × 3 columns</p>\n",
       "</div>"
      ],
      "text/plain": [
       "                                neuron_numb_for_layers  layers_numb  accuracy\n",
       "85                           (256, 256, 256, 256, 256)            5     81.59\n",
       "371  (256, 256, 256, 256, 256, 256, 256, 256, 256, ...           10     81.37\n",
       "9                                           (256, 256)            2     81.34\n",
       "367  (128, 128, 128, 128, 256, 256, 256, 256, 256, ...           10     81.20\n",
       "29                                     (256, 256, 256)            3     81.02\n",
       "..                                                 ...          ...       ...\n",
       "144          (32, 32, 32, 32, 64, 64, 64, 64, 64, 256)           10     75.61\n",
       "117       (32, 32, 32, 32, 32, 32, 128, 128, 128, 256)           10     75.30\n",
       "134       (32, 32, 32, 32, 32, 64, 128, 256, 256, 256)           10     75.07\n",
       "109         (32, 32, 32, 32, 32, 32, 64, 64, 128, 128)           10     74.87\n",
       "196     (32, 32, 32, 64, 128, 256, 256, 256, 256, 256)           10     73.88\n",
       "\n",
       "[372 rows x 3 columns]"
      ]
     },
     "execution_count": 21,
     "metadata": {},
     "output_type": "execute_result"
    }
   ],
   "source": [
    "# сформируем датасет из списков, включающих значения о количестве нейронов в каждом слое и метрику - accuracy \n",
    "data_neural_network_some_layers = pd.DataFrame(list_metris_total_neural_network_some_layers, columns=list_cols)\n",
    "# отсортируем полученные данные по столбцу точность нейронной сети(accuracy)\n",
    "data_neural_network_some_layers.sort_values(by=list_cols[2], ascending=False)"
   ]
  },
  {
   "cell_type": "markdown",
   "metadata": {},
   "source": [
    "Вывод: Увеличение количества слоев не всегда приводит к лучшему результату. Имеет значение и количество нейронов в каждом слое. Так максимальное значение accuracy (81.59) при заданных параметрах было получено при 5-ти слоях по 256 нейронов в каждом.\n",
    "Несколько уступала модель в 10 слоев по 256 нейронов в каждом (accuracy = 81.37)"
   ]
  },
  {
   "cell_type": "markdown",
   "metadata": {},
   "source": [
    "лучшая нейронная сеть по accuracy"
   ]
  },
  {
   "cell_type": "code",
   "execution_count": 23,
   "metadata": {},
   "outputs": [
    {
     "name": "stdout",
     "output_type": "stream",
     "text": [
      "80.66\n",
      "CPU times: total: 34.7 s\n",
      "Wall time: 7.95 s\n"
     ]
    }
   ],
   "source": [
    "%%time\n",
    "\n",
    "model_some_layers = Sequential()\n",
    "\n",
    "model_some_layers.add(Dense(256, input_shape=(28 * 28,), activation='relu')) # input-слой + первый скрытый слой\n",
    "model_some_layers.add(Dense(256, activation='relu'))\n",
    "model_some_layers.add(Dense(256, activation='relu'))\n",
    "model_some_layers.add(Dense(256, activation='relu')) \n",
    "model_some_layers.add(Dense(256, activation='relu')) \n",
    "model_some_layers.add(Dense(10, activation='sigmoid')) # output-слой\n",
    "\n",
    "# компиляция модели \n",
    "model_some_layers.compile(loss='categorical_crossentropy', optimizer='SGD', metrics=['accuracy'])\n",
    "\n",
    "history = model_some_layers.fit(X_train, y_train,\n",
    "                epochs=5,\n",
    "                batch_size=256,\n",
    "                verbose=0,\n",
    "                validation_data=(X_test, y_test)\n",
    "                )\n",
    "\n",
    "best_metrics_model_some_layers = round(float(history.history['accuracy'][4])*100, 2) # значений accuracy последней эпохи\n",
    "print(best_metrics_model_some_layers)"
   ]
  },
  {
   "cell_type": "code",
   "execution_count": 24,
   "metadata": {},
   "outputs": [],
   "source": [
    "# Запишем конфиг лучшей нейронной сети в переменную\n",
    "config = model_some_layers.get_config()"
   ]
  },
  {
   "cell_type": "markdown",
   "metadata": {
    "id": "P7ERG-o79U9s"
   },
   "source": [
    "## 5. Оценка обученности нейронной сети"
   ]
  },
  {
   "cell_type": "code",
   "execution_count": 147,
   "metadata": {
    "colab": {
     "base_uri": "https://localhost:8080/"
    },
    "id": "Xy_ZHJLRPZu1",
    "outputId": "996be332-85ab-4485-8459-1da902f86cbf"
   },
   "outputs": [
    {
     "name": "stdout",
     "output_type": "stream",
     "text": [
      "79/79 [==============================] - 0s 2ms/step - loss: 0.3632 - accuracy: 0.8744\n"
     ]
    },
    {
     "data": {
      "text/plain": [
       "(0.36322689056396484, 0.8744000196456909)"
      ]
     },
     "execution_count": 147,
     "metadata": {},
     "output_type": "execute_result"
    }
   ],
   "source": [
    "loss, metric = model_some_layers.evaluate(X_test, y_test, batch_size=128)\n",
    "loss, metric"
   ]
  },
  {
   "cell_type": "markdown",
   "metadata": {
    "id": "UHT1j0AX9U9t"
   },
   "source": [
    "## 6. Запуск нейронной сети для выполнения работы"
   ]
  },
  {
   "cell_type": "code",
   "execution_count": 148,
   "metadata": {
    "colab": {
     "base_uri": "https://localhost:8080/"
    },
    "id": "LsCce3lEBVkh",
    "outputId": "098efc51-7941-4835-ffc4-71656b63ed7d"
   },
   "outputs": [
    {
     "data": {
      "text/plain": [
       "(1, 784)"
      ]
     },
     "execution_count": 148,
     "metadata": {},
     "output_type": "execute_result"
    }
   ],
   "source": [
    "X_test[0][None].shape"
   ]
  },
  {
   "cell_type": "code",
   "execution_count": 149,
   "metadata": {
    "colab": {
     "base_uri": "https://localhost:8080/"
    },
    "id": "E12l3cq6P4_O",
    "outputId": "2118909b-a98f-4758-aad0-a8baa3a75987"
   },
   "outputs": [
    {
     "name": "stdout",
     "output_type": "stream",
     "text": [
      "1/1 [==============================] - 0s 18ms/step\n"
     ]
    },
    {
     "data": {
      "text/plain": [
       "array([[9.9617341e-07, 4.2306869e-10, 1.9246700e-06, 2.3428295e-07,\n",
       "        1.2666808e-09, 5.2962790e-04, 5.9444332e-08, 1.1757028e-03,\n",
       "        9.6342198e-08, 1.1234007e-01]], dtype=float32)"
      ]
     },
     "execution_count": 149,
     "metadata": {},
     "output_type": "execute_result"
    }
   ],
   "source": [
    "predictions = model_some_layers.predict(X_test[0][None])\n",
    "predictions"
   ]
  },
  {
   "cell_type": "code",
   "execution_count": 150,
   "metadata": {
    "colab": {
     "base_uri": "https://localhost:8080/"
    },
    "id": "AasIPpL0TpgN",
    "outputId": "1f08f88b-fccd-4e35-c04c-c71f5f63d5b1"
   },
   "outputs": [
    {
     "data": {
      "text/plain": [
       "array([9], dtype=int64)"
      ]
     },
     "execution_count": 150,
     "metadata": {},
     "output_type": "execute_result"
    }
   ],
   "source": [
    "pred_labels = np.argmax(predictions, axis=1)\n",
    "pred_labels"
   ]
  },
  {
   "cell_type": "code",
   "execution_count": 151,
   "metadata": {
    "colab": {
     "base_uri": "https://localhost:8080/"
    },
    "id": "47wK4mK8T0dp",
    "outputId": "2bf78c70-cada-4688-9d12-860e48ce97e6"
   },
   "outputs": [
    {
     "data": {
      "text/plain": [
       "array([9], dtype=uint8)"
      ]
     },
     "execution_count": 151,
     "metadata": {},
     "output_type": "execute_result"
    }
   ],
   "source": [
    "y_test_labels[:1]"
   ]
  },
  {
   "cell_type": "markdown",
   "metadata": {},
   "source": [
    "## 7. Сохранение модели"
   ]
  },
  {
   "cell_type": "code",
   "execution_count": 31,
   "metadata": {
    "id": "He1a5EemElpX"
   },
   "outputs": [],
   "source": [
    "# Save the weights to disk\n",
    "model_some_layers.save_weights('model_weights.h5')\n",
    "\n",
    "# Save the model to disk\n",
    "model_some_layers.save('model.h5')"
   ]
  },
  {
   "cell_type": "code",
   "execution_count": 32,
   "metadata": {
    "colab": {
     "base_uri": "https://localhost:8080/"
    },
    "id": "o0EEzWXMFQR2",
    "outputId": "0717b171-c039-4703-f7c3-d803aaedd3e7"
   },
   "outputs": [],
   "source": [
    "config_mnist = model_some_layers.get_config()"
   ]
  },
  {
   "cell_type": "markdown",
   "metadata": {
    "id": "a8zh5g-GBQIp"
   },
   "source": [
    "## 8. Оптимизаторы"
   ]
  },
  {
   "cell_type": "code",
   "execution_count": 33,
   "metadata": {
    "colab": {
     "base_uri": "https://localhost:8080/"
    },
    "id": "_Tu3Q9bHf1ld",
    "outputId": "9d6b684b-3c0e-48ff-a682-9f99a0c398df"
   },
   "outputs": [
    {
     "data": {
      "text/plain": [
       "<keras.src.optimizers.sgd.SGD at 0x178bee94880>"
      ]
     },
     "execution_count": 33,
     "metadata": {},
     "output_type": "execute_result"
    }
   ],
   "source": [
    "optimizers.SGD(learning_rate=0.001, momentum=0.5)"
   ]
  },
  {
   "cell_type": "markdown",
   "metadata": {
    "id": "0M5994xKfjOb"
   },
   "source": [
    "### AdaGrad"
   ]
  },
  {
   "cell_type": "code",
   "execution_count": 34,
   "metadata": {
    "colab": {
     "base_uri": "https://localhost:8080/"
    },
    "id": "zm7TVF096CEx",
    "outputId": "b439b09b-ca3b-4b08-f653-a73f6783d685"
   },
   "outputs": [
    {
     "data": {
      "text/plain": [
       "<keras.src.optimizers.adagrad.Adagrad at 0x178bee960b0>"
      ]
     },
     "execution_count": 34,
     "metadata": {},
     "output_type": "execute_result"
    }
   ],
   "source": [
    "optimizers.Adagrad(learning_rate=0.001, initial_accumulator_value=0.1, epsilon=1e-07)"
   ]
  },
  {
   "cell_type": "markdown",
   "metadata": {
    "id": "foVu35djfmbo"
   },
   "source": [
    "### RMSProp (Leaky AdaGrad)"
   ]
  },
  {
   "cell_type": "code",
   "execution_count": 35,
   "metadata": {
    "colab": {
     "base_uri": "https://localhost:8080/"
    },
    "id": "46PwnfPPVQiZ",
    "outputId": "f9d5e8b6-5a6c-4905-d042-3964c26bf009"
   },
   "outputs": [
    {
     "data": {
      "text/plain": [
       "<keras.src.optimizers.rmsprop.RMSprop at 0x178b08f0d00>"
      ]
     },
     "execution_count": 35,
     "metadata": {},
     "output_type": "execute_result"
    }
   ],
   "source": [
    "optimizers.RMSprop(learning_rate=0.001, rho=0.9, epsilon=1e-07)"
   ]
  },
  {
   "cell_type": "markdown",
   "metadata": {
    "id": "k7iOYaeOfqbS"
   },
   "source": [
    "### Adam"
   ]
  },
  {
   "cell_type": "code",
   "execution_count": 36,
   "metadata": {
    "colab": {
     "base_uri": "https://localhost:8080/"
    },
    "id": "_NBYrY81fgrI",
    "outputId": "95487edd-a6f9-4b58-f7a0-5e5d8920cf28"
   },
   "outputs": [
    {
     "data": {
      "text/plain": [
       "<keras.src.optimizers.adam.Adam at 0x178cabc7a30>"
      ]
     },
     "execution_count": 36,
     "metadata": {},
     "output_type": "execute_result"
    }
   ],
   "source": [
    "optimizers.Adam(learning_rate=0.001, beta_1=0.9, beta_2=0.999, epsilon=1e-07)"
   ]
  },
  {
   "cell_type": "code",
   "execution_count": 38,
   "metadata": {
    "colab": {
     "base_uri": "https://localhost:8080/",
     "height": 1000
    },
    "id": "W5S9qdlubn7m",
    "outputId": "7962b231-cb17-4dd9-f7cf-a2832a3166bd"
   },
   "outputs": [
    {
     "name": "stdout",
     "output_type": "stream",
     "text": [
      "Epoch 1/4\n",
      "1875/1875 [==============================] - 6s 3ms/step - loss: 0.5119 - accuracy: 0.8196 - val_loss: 0.5080 - val_accuracy: 0.8199\n",
      "Epoch 2/4\n",
      "1875/1875 [==============================] - 6s 3ms/step - loss: 0.4282 - accuracy: 0.8465 - val_loss: 0.4369 - val_accuracy: 0.8439\n",
      "Epoch 3/4\n",
      "1875/1875 [==============================] - 6s 3ms/step - loss: 0.3895 - accuracy: 0.8609 - val_loss: 0.4393 - val_accuracy: 0.8427\n",
      "Epoch 4/4\n",
      "1875/1875 [==============================] - 6s 3ms/step - loss: 0.3629 - accuracy: 0.8696 - val_loss: 0.4178 - val_accuracy: 0.8487\n",
      "====================\n",
      "Epoch 1/4\n",
      "1875/1875 [==============================] - 8s 4ms/step - loss: 0.3227 - accuracy: 0.8835 - val_loss: 0.3690 - val_accuracy: 0.8653\n",
      "Epoch 2/4\n",
      "1875/1875 [==============================] - 8s 4ms/step - loss: 0.3139 - accuracy: 0.8857 - val_loss: 0.3673 - val_accuracy: 0.8671\n",
      "Epoch 3/4\n",
      "1875/1875 [==============================] - 8s 4ms/step - loss: 0.3084 - accuracy: 0.8882 - val_loss: 0.3624 - val_accuracy: 0.8673\n",
      "Epoch 4/4\n",
      "1875/1875 [==============================] - 8s 4ms/step - loss: 0.3042 - accuracy: 0.8895 - val_loss: 0.3614 - val_accuracy: 0.8678\n",
      "====================\n",
      "Epoch 1/4\n",
      "1875/1875 [==============================] - 9s 5ms/step - loss: 0.5046 - accuracy: 0.8232 - val_loss: 0.4808 - val_accuracy: 0.8339\n",
      "Epoch 2/4\n",
      "1875/1875 [==============================] - 9s 5ms/step - loss: 0.4148 - accuracy: 0.8554 - val_loss: 0.4253 - val_accuracy: 0.8436\n",
      "Epoch 3/4\n",
      "1875/1875 [==============================] - 10s 5ms/step - loss: 0.4056 - accuracy: 0.8636 - val_loss: 0.4623 - val_accuracy: 0.8431\n",
      "Epoch 4/4\n",
      "1875/1875 [==============================] - 10s 5ms/step - loss: 0.3962 - accuracy: 0.8668 - val_loss: 0.4689 - val_accuracy: 0.8505\n",
      "====================\n",
      "Epoch 1/4\n",
      "1875/1875 [==============================] - 11s 5ms/step - loss: 0.3488 - accuracy: 0.8777 - val_loss: 0.4347 - val_accuracy: 0.8517\n",
      "Epoch 2/4\n",
      "1875/1875 [==============================] - 10s 5ms/step - loss: 0.3112 - accuracy: 0.8843 - val_loss: 0.3718 - val_accuracy: 0.8680\n",
      "Epoch 3/4\n",
      "1875/1875 [==============================] - 9s 5ms/step - loss: 0.3003 - accuracy: 0.8902 - val_loss: 0.3514 - val_accuracy: 0.8769\n",
      "Epoch 4/4\n",
      "1875/1875 [==============================] - 9s 5ms/step - loss: 0.2886 - accuracy: 0.8953 - val_loss: 0.3632 - val_accuracy: 0.8744\n",
      "====================\n"
     ]
    },
    {
     "data": {
      "image/png": "[encoded data removed]",
      "text/plain": [
       "<Figure size 1600x700 with 1 Axes>"
      ]
     },
     "metadata": {},
     "output_type": "display_data"
    },
    {
     "name": "stdout",
     "output_type": "stream",
     "text": [
      "CPU times: total: 8min 8s\n",
      "Wall time: 2min 28s\n"
     ]
    }
   ],
   "source": [
    "%%time\n",
    "\n",
    "# будем сохранять модели в словарь\n",
    "models = {}\n",
    "\n",
    "plt.figure(figsize=(16, 7))\n",
    "colors = ['g', 'b', 'r', 'y']\n",
    "\n",
    "num_epochs = 4\n",
    "batch_size = 32\n",
    "\n",
    "# вектор для вывода результатов\n",
    "epoch = np.arange(num_epochs+1)\n",
    "\n",
    "# будем изменять оптимизаторы\n",
    "for i, i_optim in enumerate([optimizers.SGD(),\n",
    "                             optimizers.Adagrad(),\n",
    "                             optimizers.RMSprop(),\n",
    "                             optimizers.Adam()]):\n",
    "\n",
    "    # создаем рабочую модель  model_i с зафиксированными весами\n",
    "    import tensorflow as tf\n",
    "    tf.random.set_seed(1)\n",
    "\n",
    "    model_i = model_some_layers\n",
    "\n",
    "\n",
    "    # компилируем model_i с одним из оптимизаторов\n",
    "    model_i.compile(\n",
    "        optimizer=i_optim,\n",
    "        loss='categorical_crossentropy',\n",
    "        metrics=['accuracy'],\n",
    "        )\n",
    "\n",
    "    # вычисляем ошибку для modeli без обучения\n",
    "    h0_train = model_i.evaluate(X_train, y_train, verbose=0)\n",
    "    h0_val = model_i.evaluate(X_test, y_test, verbose=0)\n",
    "\n",
    "    # проводим обучение модели\n",
    "    h = model_i.fit(X_train, y_train,\n",
    "                    epochs=num_epochs,\n",
    "                    batch_size=batch_size,\n",
    "                    validation_data=(X_test, y_test),\n",
    "                    verbose=1)\n",
    "\n",
    "    # записываем обученную модель в словарь\n",
    "    models[i_optim.get_config()['name']] = model_i\n",
    "\n",
    "    # картинки\n",
    "    plt.plot(epoch, np.log([h0_train[0]] + h.history['loss']),\n",
    "             '-', c=colors[i],\n",
    "             label=model_i.optimizer.get_config()['name'] + ' train')\n",
    "    plt.plot(epoch, np.log([h0_val[0]] + h.history['val_loss']),\n",
    "             '--', c=colors[i],\n",
    "             label=model_i.optimizer.get_config()['name'] + ' val')\n",
    "    print('=' * 20)\n",
    "\n",
    "plt.legend()\n",
    "plt.title('нейросети от оптимизатора log(loss)')\n",
    "plt.xlabel('epoch')\n",
    "plt.ylabel('log(loss)')\n",
    "plt.show()"
   ]
  },
  {
   "cell_type": "code",
   "execution_count": 45,
   "metadata": {
    "colab": {
     "base_uri": "https://localhost:8080/"
    },
    "id": "viS_E5s6z2UU",
    "outputId": "3da80980-d92a-49eb-b764-db9a703fadc9"
   },
   "outputs": [
    {
     "data": {
      "text/plain": [
       "{'name': 'Adam',\n",
       " 'weight_decay': None,\n",
       " 'clipnorm': None,\n",
       " 'global_clipnorm': None,\n",
       " 'clipvalue': None,\n",
       " 'use_ema': False,\n",
       " 'ema_momentum': 0.99,\n",
       " 'ema_overwrite_frequency': None,\n",
       " 'jit_compile': False,\n",
       " 'is_legacy_optimizer': False,\n",
       " 'learning_rate': 0.001,\n",
       " 'beta_1': 0.9,\n",
       " 'beta_2': 0.999,\n",
       " 'epsilon': 1e-07,\n",
       " 'amsgrad': False}"
      ]
     },
     "execution_count": 45,
     "metadata": {},
     "output_type": "execute_result"
    }
   ],
   "source": [
    "model_i.optimizer.get_config()"
   ]
  },
  {
   "cell_type": "code",
   "execution_count": 46,
   "metadata": {
    "colab": {
     "base_uri": "https://localhost:8080/",
     "height": 245
    },
    "id": "wj7fhqd3FKFe",
    "outputId": "bf37a48a-defd-433b-80bc-2f6f7fbaef33"
   },
   "outputs": [
    {
     "name": "stdout",
     "output_type": "stream",
     "text": [
      "1/1 [==============================] - 0s 56ms/step\n"
     ]
    },
    {
     "data": {
      "image/png": "[encoded data removed]",
      "text/plain": [
       "<Figure size 1500x500 with 5 Axes>"
      ]
     },
     "metadata": {},
     "output_type": "display_data"
    }
   ],
   "source": [
    "N = 5\n",
    "y_pred = model_i.predict(X_test[:N, :])\n",
    "y_pred_class = np.argmax(y_pred, axis=1)\n",
    "plt.figure(figsize=(3 * N, 5))\n",
    "\n",
    "for i in range(N):\n",
    "    plt.subplot(1, N, i+1)\n",
    "    plt.imshow(X_test[i,:].reshape(28, 28))\n",
    "    plt.xlabel(str(y_pred_class[i]))\n",
    "plt.show()"
   ]
  },
  {
   "cell_type": "code",
   "execution_count": 47,
   "metadata": {
    "colab": {
     "base_uri": "https://localhost:8080/"
    },
    "id": "Q561c6eaGxcB",
    "outputId": "4be46eb2-6cd3-4e46-e3ce-9186e56d507a"
   },
   "outputs": [
    {
     "data": {
      "text/plain": [
       "array([9, 2, 1, 1, 6], dtype=int64)"
      ]
     },
     "execution_count": 47,
     "metadata": {},
     "output_type": "execute_result"
    }
   ],
   "source": [
    "y_pred_class"
   ]
  },
  {
   "cell_type": "code",
   "execution_count": 160,
   "metadata": {
    "id": "TFynQXqjmxRZ"
   },
   "outputs": [
    {
     "name": "stdout",
     "output_type": "stream",
     "text": [
      "313/313 [==============================] - 0s 1ms/step\n"
     ]
    },
    {
     "data": {
      "text/plain": [
       "array([[821,   4,  16,  61,   3,   0,  81,   0,  14,   0],\n",
       "       [  0, 967,   1,  26,   3,   0,   2,   0,   1,   0],\n",
       "       [  8,   4, 733,  27, 110,   0, 113,   0,   5,   0],\n",
       "       [ 18,  14,   5, 909,  28,   0,  19,   0,   7,   0],\n",
       "       [  0,   1,  76,  45, 800,   0,  66,   0,  12,   0],\n",
       "       [  1,   0,   0,   1,   0, 938,   0,  24,   5,  31],\n",
       "       [152,   3,  51,  43,  62,   0, 673,   0,  16,   0],\n",
       "       [  0,   0,   0,   0,   0,   6,   0, 949,   0,  45],\n",
       "       [  1,   1,   4,   3,   3,   1,   2,   2, 983,   0],\n",
       "       [  0,   0,   0,   2,   0,   5,   1,  22,   0, 970]], dtype=int64)"
      ]
     },
     "execution_count": 160,
     "metadata": {},
     "output_type": "execute_result"
    }
   ],
   "source": [
    "y_pred = model_some_layers.predict(X_test)\n",
    "\n",
    "result = confusion_matrix(y_test.argmax(axis=1), y_pred.argmax(axis=1))\n",
    "result"
   ]
  },
  {
   "cell_type": "code",
   "execution_count": 161,
   "metadata": {},
   "outputs": [
    {
     "name": "stdout",
     "output_type": "stream",
     "text": [
      "Recall: 0.9800000190734863\n"
     ]
    }
   ],
   "source": [
    "m = tf.keras.metrics.Recall()\n",
    "m.update_state(y_test.argmax(axis=1), y_pred.argmax(axis=1))\n",
    "print(f'Recall: {m.result().numpy()}')"
   ]
  },
  {
   "cell_type": "code",
   "execution_count": 162,
   "metadata": {},
   "outputs": [
    {
     "name": "stdout",
     "output_type": "stream",
     "text": [
      "Precision: 0.980108916759491\n"
     ]
    }
   ],
   "source": [
    "m = tf.keras.metrics.Precision()\n",
    "m.update_state(y_test.argmax(axis=1), y_pred.argmax(axis=1))\n",
    "print(f'Precision: {m.result().numpy()}')"
   ]
  },
  {
   "cell_type": "markdown",
   "metadata": {},
   "source": [
    "качество классификации улучшилось за счет уменьшения параметра learning_rate"
   ]
  },
  {
   "cell_type": "code",
   "execution_count": null,
   "metadata": {},
   "outputs": [],
   "source": []
  }
 ],
 "metadata": {
  "accelerator": "GPU",
  "colab": {
   "gpuType": "T4",
   "provenance": []
  },
  "kernelspec": {
   "display_name": "Python 3 (ipykernel)",
   "language": "python",
   "name": "python3"
  },
  "language_info": {
   "codemirror_mode": {
    "name": "ipython",
    "version": 3
   },
   "file_extension": ".py",
   "mimetype": "text/x-python",
   "name": "python",
   "nbconvert_exporter": "python",
   "pygments_lexer": "ipython3",
   "version": "3.10.9"
  }
 },
 "nbformat": 4,
 "nbformat_minor": 1
}
